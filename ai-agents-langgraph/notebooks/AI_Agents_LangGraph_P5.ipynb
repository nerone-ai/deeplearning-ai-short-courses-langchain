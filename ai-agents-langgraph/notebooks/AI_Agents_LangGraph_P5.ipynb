{
 "cells": [
  {
   "cell_type": "markdown",
   "id": "3e9f5db7",
   "metadata": {},
   "source": [
    "# AI Agents in LangGraph – Lesson 5 "
   ]
  },
  {
   "cell_type": "markdown",
   "id": "c3b972d7",
   "metadata": {},
   "source": [
    "This notebook builds on the agents we created in **Lesson 4 (Persistence and Streaming )**.  \n",
    "The key additions are:\n",
    "\n",
    "* **Custom `reduce_messages`** – lets us *replace* earlier messages that share an `id` instead of always appending (the default `operator.add` behaviour you saw last time).  \n",
    "* **`interrupt before \"action\"`** – inserts a breakpoint **before** the `action` node executes, so a human can inspect/modify the state or even *veto* the tool call.\n",
    "* **`time travel`** – allows a human to *undo* previous actions and try a different path.\n",
    "\n"
   ]
  },
  {
   "cell_type": "code",
   "execution_count": 1,
   "id": "1760ecd3",
   "metadata": {
    "height": 251
   },
   "outputs": [],
   "source": [
    "from dotenv import load_dotenv\n",
    "_ = load_dotenv()\n",
    "\n",
    "from langgraph.graph import StateGraph, END\n",
    "from typing import TypedDict, Annotated\n",
    "import operator\n",
    "from uuid import uuid4\n",
    "\n",
    "from langchain_core.messages import AnyMessage, SystemMessage, HumanMessage, ToolMessage, AIMessage\n",
    "from langchain_openai import ChatOpenAI\n",
    "from langchain_community.tools.tavily_search import TavilySearchResults\n",
    "from langgraph.checkpoint.sqlite import SqliteSaver\n",
    "\n",
    "memory = SqliteSaver.from_conn_string(\":memory:\")"
   ]
  },
  {
   "cell_type": "markdown",
   "id": "2080f844",
   "metadata": {},
   "source": [
    "### 1. Replacing messages instead of just appending"
   ]
  },
  {
   "cell_type": "code",
   "execution_count": 2,
   "id": "8c0b3f6c",
   "metadata": {
    "height": 574
   },
   "outputs": [],
   "source": [
    "from uuid import uuid4\n",
    "from langchain_core.messages import AnyMessage, SystemMessage, HumanMessage, AIMessage\n",
    "\n",
    "\"\"\"\n",
    "In Leeson 4 just annotated the `messages` state key\n",
    "with the default `operator.add` or `+` reducer, which always\n",
    "appends new messages to the end of the existing messages array.\n",
    "\n",
    "Now, to support replacing existing messages, annotate the\n",
    "`messages` key with a customer reducer function, which replaces\n",
    "messages with the same `id`, and appends them otherwise.\n",
    "\"\"\"\n",
    "\n",
    "def reduce_messages(left: list[AnyMessage], right: list[AnyMessage]) -> list[AnyMessage]:\n",
    "    \"\"\"Merge `right` into `left`, replacing messages that share an *id*.\"\"\"\n",
    "    # Ensure every incoming message has an id\n",
    "    # assign a unique id if missing\n",
    "    for m in right:\n",
    "        if not m.id:\n",
    "            m.id = str(uuid4())\n",
    "\n",
    "    # merge new messages with the existing messages\n",
    "    merged = left.copy()\n",
    "    for m in right:\n",
    "        # replace existing message if it has the same id\n",
    "        for i, existing in enumerate(merged):\n",
    "            if existing.id == m.id:   # replace\n",
    "                merged[i] = m\n",
    "                break\n",
    "        else:\n",
    "            # append new messages to the end\n",
    "            merged.append(m)          # append new\n",
    "    return merged"
   ]
  },
  {
   "cell_type": "code",
   "execution_count": 3,
   "id": "f6f08c6c",
   "metadata": {
    "height": 64
   },
   "outputs": [],
   "source": [
    "# use reduce_messages to merge messages for the instead of simple add \n",
    "class AgentState(TypedDict):\n",
    "    messages: Annotated[list[AnyMessage], reduce_messages]"
   ]
  },
  {
   "cell_type": "markdown",
   "id": "2cd9b8da",
   "metadata": {},
   "source": [
    "### 2.1 Tool – Tavily search (same as Lesson 4)"
   ]
  },
  {
   "cell_type": "code",
   "execution_count": 4,
   "id": "66939bf5",
   "metadata": {
    "height": 30
   },
   "outputs": [],
   "source": [
    "tool = TavilySearchResults(max_results=2)"
   ]
  },
  {
   "cell_type": "markdown",
   "id": "7a04fd50",
   "metadata": {},
   "source": [
    "### 3. Example of manual human approval  "
   ]
  },
  {
   "cell_type": "code",
   "execution_count": 5,
   "id": "eeb5ce69",
   "metadata": {
    "height": 727
   },
   "outputs": [],
   "source": [
    "class Agent:\n",
    "    def __init__(self, model, tools, system: str = \"\", checkpointer=None):\n",
    "        self.system = system\n",
    "        graph = StateGraph(AgentState)\n",
    "        graph.add_node(\"llm\", self.call_openai)\n",
    "        graph.add_node(\"action\", self.take_action)\n",
    "        graph.add_conditional_edges(\"llm\", self.exists_action, {True: \"action\", False: END})\n",
    "        graph.add_edge(\"action\", \"llm\")\n",
    "        graph.set_entry_point(\"llm\")\n",
    "\n",
    "        # NEW: pause **before** the action node runs\n",
    "        self.graph = graph.compile(checkpointer=checkpointer,\n",
    "                                   interrupt_before=[\"action\"])\n",
    "\n",
    "        self.tools = {t.name: t for t in tools}\n",
    "        self.model = model.bind_tools(tools)\n",
    "\n",
    "    # ----- Node callbacks -----\n",
    "    def call_openai(self, state: AgentState):\n",
    "        msgs = state[\"messages\"]\n",
    "        if self.system:\n",
    "            msgs = [SystemMessage(content=self.system)] + msgs\n",
    "        reply = self.model.invoke(msgs)\n",
    "        return {\"messages\": [reply]}\n",
    "\n",
    "    def exists_action(self, state: AgentState):\n",
    "        print(state)\n",
    "        result = state[\"messages\"][-1]\n",
    "        # Decide whether the assistant wants to call a tool\n",
    "        return len(result.tool_calls) > 0\n",
    "\n",
    "    def take_action(self, state: AgentState):\n",
    "        tool_calls = state[\"messages\"][-1].tool_calls\n",
    "        results = []\n",
    "        for call in tool_calls:\n",
    "            print(f\"🔧 Calling tool: {call}\")\n",
    "            res = self.tools[call[\"name\"]].invoke(call[\"args\"])\n",
    "            results.append(ToolMessage(tool_call_id=call[\"id\"],\n",
    "                                       name=call[\"name\"],\n",
    "                                       content=str(res)))\n",
    "        print(\"Back to the LLM\")\n",
    "        return {\"messages\": results}"
   ]
  },
  {
   "cell_type": "markdown",
   "id": "e6af755b",
   "metadata": {},
   "source": [
    "### 4. Test the human-in-the-loop agent"
   ]
  },
  {
   "cell_type": "code",
   "execution_count": 6,
   "id": "ede39c96",
   "metadata": {
    "height": 115
   },
   "outputs": [],
   "source": [
    "prompt = \"\"\"You are a smart research assistant.  \n",
    "Use the search engine to look up information when necessary.  \n",
    "Ask follow‑up questions if you’re unsure. \"\"\"\n",
    "\n",
    "model = ChatOpenAI(model=\"gpt-3.5-turbo\")\n",
    "abot = Agent(model, [tool], system=prompt, checkpointer=memory)"
   ]
  },
  {
   "cell_type": "markdown",
   "id": "0f912eb6",
   "metadata": {},
   "source": [
    "#### First conversation – notice the **pause** before tool calling"
   ]
  },
  {
   "cell_type": "code",
   "execution_count": 7,
   "id": "1af84a1d",
   "metadata": {
    "height": 115
   },
   "outputs": [
    {
     "name": "stdout",
     "output_type": "stream",
     "text": [
      "{'messages': [HumanMessage(content=\"What's the weather in SF?\", id='b1485b73-872f-4f05-a23f-41b1cbafede2'), AIMessage(content='', additional_kwargs={'tool_calls': [{'id': 'call_k05aoERS784ji0P9G1HjABQo', 'function': {'arguments': '{\"query\":\"current weather in San Francisco\"}', 'name': 'tavily_search_results_json'}, 'type': 'function'}]}, response_metadata={'token_usage': {'completion_tokens': 23, 'prompt_tokens': 119, 'total_tokens': 142, 'prompt_tokens_details': {'cached_tokens': 0, 'audio_tokens': 0}, 'completion_tokens_details': {'reasoning_tokens': 0, 'audio_tokens': 0, 'accepted_prediction_tokens': 0, 'rejected_prediction_tokens': 0}}, 'model_name': 'gpt-3.5-turbo', 'system_fingerprint': None, 'finish_reason': 'tool_calls', 'logprobs': None}, id='run-fdd6627a-ca99-4174-a759-4be83247a8bb-0', tool_calls=[{'name': 'tavily_search_results_json', 'args': {'query': 'current weather in San Francisco'}, 'id': 'call_k05aoERS784ji0P9G1HjABQo'}])]}\n",
      "{'messages': [AIMessage(content='', additional_kwargs={'tool_calls': [{'id': 'call_k05aoERS784ji0P9G1HjABQo', 'function': {'arguments': '{\"query\":\"current weather in San Francisco\"}', 'name': 'tavily_search_results_json'}, 'type': 'function'}]}, response_metadata={'token_usage': {'completion_tokens': 23, 'prompt_tokens': 119, 'total_tokens': 142, 'prompt_tokens_details': {'cached_tokens': 0, 'audio_tokens': 0}, 'completion_tokens_details': {'reasoning_tokens': 0, 'audio_tokens': 0, 'accepted_prediction_tokens': 0, 'rejected_prediction_tokens': 0}}, 'model_name': 'gpt-3.5-turbo', 'system_fingerprint': None, 'finish_reason': 'tool_calls', 'logprobs': None}, id='run-fdd6627a-ca99-4174-a759-4be83247a8bb-0', tool_calls=[{'name': 'tavily_search_results_json', 'args': {'query': 'current weather in San Francisco'}, 'id': 'call_k05aoERS784ji0P9G1HjABQo'}])]}\n"
     ]
    }
   ],
   "source": [
    "messages = [HumanMessage(content=\"What's the weather in SF?\")]\n",
    "thread = {\"configurable\": {\"thread_id\": \"1\"}}\n",
    "\n",
    "for event in abot.graph.stream({\"messages\": messages}, thread):\n",
    "    for v in event.values():\n",
    "        print(v)  # Stops **before** the action node"
   ]
  },
  {
   "cell_type": "code",
   "execution_count": 8,
   "id": "b08d865d",
   "metadata": {
    "height": 47
   },
   "outputs": [
    {
     "data": {
      "text/plain": [
       "StateSnapshot(values={'messages': [HumanMessage(content=\"What's the weather in SF?\", id='b1485b73-872f-4f05-a23f-41b1cbafede2'), AIMessage(content='', additional_kwargs={'tool_calls': [{'function': {'arguments': '{\"query\":\"current weather in San Francisco\"}', 'name': 'tavily_search_results_json'}, 'id': 'call_k05aoERS784ji0P9G1HjABQo', 'type': 'function'}]}, response_metadata={'finish_reason': 'tool_calls', 'logprobs': None, 'model_name': 'gpt-3.5-turbo', 'system_fingerprint': None, 'token_usage': {'completion_tokens': 23, 'completion_tokens_details': {'accepted_prediction_tokens': 0, 'audio_tokens': 0, 'reasoning_tokens': 0, 'rejected_prediction_tokens': 0}, 'prompt_tokens': 119, 'prompt_tokens_details': {'audio_tokens': 0, 'cached_tokens': 0}, 'total_tokens': 142}}, id='run-fdd6627a-ca99-4174-a759-4be83247a8bb-0', tool_calls=[{'name': 'tavily_search_results_json', 'args': {'query': 'current weather in San Francisco'}, 'id': 'call_k05aoERS784ji0P9G1HjABQo'}])]}, next=('action',), config={'configurable': {'thread_id': '1', 'thread_ts': '1f02f2ad-6292-689d-8001-3572ad42c808'}}, metadata={'source': 'loop', 'step': 1, 'writes': {'llm': {'messages': [AIMessage(content='', additional_kwargs={'tool_calls': [{'function': {'arguments': '{\"query\":\"current weather in San Francisco\"}', 'name': 'tavily_search_results_json'}, 'id': 'call_k05aoERS784ji0P9G1HjABQo', 'type': 'function'}]}, response_metadata={'finish_reason': 'tool_calls', 'logprobs': None, 'model_name': 'gpt-3.5-turbo', 'system_fingerprint': None, 'token_usage': {'completion_tokens': 23, 'completion_tokens_details': {'accepted_prediction_tokens': 0, 'audio_tokens': 0, 'reasoning_tokens': 0, 'rejected_prediction_tokens': 0}, 'prompt_tokens': 119, 'prompt_tokens_details': {'audio_tokens': 0, 'cached_tokens': 0}, 'total_tokens': 142}}, id='run-fdd6627a-ca99-4174-a759-4be83247a8bb-0', tool_calls=[{'name': 'tavily_search_results_json', 'args': {'query': 'current weather in San Francisco'}, 'id': 'call_k05aoERS784ji0P9G1HjABQo'}])]}}}, created_at='2025-05-12T12:15:47.663864+00:00', parent_config={'configurable': {'thread_id': '1', 'thread_ts': '1f02f2ad-622f-615f-8000-67cf7a859eb3'}})"
      ]
     },
     "execution_count": 8,
     "metadata": {},
     "output_type": "execute_result"
    }
   ],
   "source": [
    "# Inspect the paused state\n",
    "abot.graph.get_state(thread)"
   ]
  },
  {
   "cell_type": "code",
   "execution_count": 9,
   "id": "d456d2c3",
   "metadata": {
    "height": 47
   },
   "outputs": [
    {
     "data": {
      "text/plain": [
       "('action',)"
      ]
     },
     "execution_count": 9,
     "metadata": {},
     "output_type": "execute_result"
    }
   ],
   "source": [
    "# The graph tells us the next node is 'action' \n",
    "abot.graph.get_state(thread).next"
   ]
  },
  {
   "cell_type": "markdown",
   "id": "1fa4abac",
   "metadata": {},
   "source": [
    "> Because of the interrupt, **no tool has run yet**. Let’s resume:"
   ]
  },
  {
   "cell_type": "code",
   "execution_count": 10,
   "id": "526541ed",
   "metadata": {
    "height": 64
   },
   "outputs": [
    {
     "name": "stdout",
     "output_type": "stream",
     "text": [
      "🔧 Calling tool: {'name': 'tavily_search_results_json', 'args': {'query': 'current weather in San Francisco'}, 'id': 'call_k05aoERS784ji0P9G1HjABQo'}\n",
      "Back to the LLM\n",
      "{'messages': [ToolMessage(content='[{\\'url\\': \\'https://www.weatherapi.com/\\', \\'content\\': \"{\\'location\\': {\\'name\\': \\'San Francisco\\', \\'region\\': \\'California\\', \\'country\\': \\'United States of America\\', \\'lat\\': 37.775, \\'lon\\': -122.4183, \\'tz_id\\': \\'America/Los_Angeles\\', \\'localtime_epoch\\': 1747052103, \\'localtime\\': \\'2025-05-12 05:15\\'}, \\'current\\': {\\'last_updated_epoch\\': 1747052100, \\'last_updated\\': \\'2025-05-12 05:15\\', \\'temp_c\\': 13.9, \\'temp_f\\': 57.0, \\'is_day\\': 0, \\'condition\\': {\\'text\\': \\'Light rain\\', \\'icon\\': \\'//cdn.weatherapi.com/weather/64x64/night/296.png\\', \\'code\\': 1183}, \\'wind_mph\\': 11.6, \\'wind_kph\\': 18.7, \\'wind_degree\\': 189, \\'wind_dir\\': \\'S\\', \\'pressure_mb\\': 1013.0, \\'pressure_in\\': 29.92, \\'precip_mm\\': 1.5, \\'precip_in\\': 0.06, \\'humidity\\': 83, \\'cloud\\': 100, \\'feelslike_c\\': 12.4, \\'feelslike_f\\': 54.3, \\'windchill_c\\': 9.1, \\'windchill_f\\': 48.3, \\'heatindex_c\\': 11.0, \\'heatindex_f\\': 51.9, \\'dewpoint_c\\': 10.2, \\'dewpoint_f\\': 50.4, \\'vis_km\\': 16.0, \\'vis_miles\\': 9.0, \\'uv\\': 0.0, \\'gust_mph\\': 16.9, \\'gust_kph\\': 27.3}}\"}, {\\'url\\': \\'https://world-weather.info/forecast/usa/san_francisco/may-2025/\\', \\'content\\': \"Weather in San Francisco in May 2025\\\\n\\\\nSan Francisco Weather Forecast for May 2025 is based on long term prognosis and previous years\\' statistical data.\\\\n\\\\nMay\\\\n\\\\n+52°\\\\n\\\\n+52°\\\\n\\\\n+52°\\\\n\\\\n+50°\\\\n\\\\n+57°\\\\n\\\\n+55°\\\\n\\\\n+54°\\\\n\\\\n+50°\\\\n\\\\n+52°\\\\n\\\\n+54°\\\\n\\\\n+52°\\\\n\\\\n+55°\\\\n\\\\n+52°\\\\n\\\\n+52°\\\\n\\\\n+52°\\\\n\\\\n+52°\\\\n\\\\n+52°\\\\n\\\\n+52°\\\\n\\\\n+52°\\\\n\\\\n+52°\\\\n\\\\n+50°\\\\n\\\\n+55°\\\\n\\\\n+55°\\\\n\\\\n+54°\\\\n\\\\n+52°\\\\n\\\\n+54°\\\\n\\\\n+55°\\\\n\\\\n+57°\\\\n\\\\n+55°\\\\n\\\\n+55°\\\\n\\\\n+55°\\\\n\\\\nExtended weather forecast in San Francisco\\\\n\\\\nWeather in large and nearby cities\\\\n\\\\nWeather in Washington, D.C.+59°\\\\n\\\\nSacramento+54°\\\\n\\\\nPleasanton+55° [...] Redwood City+57°\\\\n\\\\nSan Leandro+57°\\\\n\\\\nSan Mateo+57°\\\\n\\\\nSan Rafael+55°\\\\n\\\\nSan Ramon+54°\\\\n\\\\nSouth San Francisco+55°\\\\n\\\\nVallejo+55°\\\\n\\\\nPalo Alto+55°\\\\n\\\\nPacifica+55°\\\\n\\\\nBerkeley+52°\\\\n\\\\nCastro Valley+55°\\\\n\\\\nConcord+57°\\\\n\\\\nDaly City+55°\\\\n\\\\nShafter+55°\\\\n\\\\nDonald+55°\"}]', name='tavily_search_results_json', id='5e6c12f0-bc38-4be2-880b-cfd7f2d1286a', tool_call_id='call_k05aoERS784ji0P9G1HjABQo')]}\n",
      "{'messages': [HumanMessage(content=\"What's the weather in SF?\", id='b1485b73-872f-4f05-a23f-41b1cbafede2'), AIMessage(content='', additional_kwargs={'tool_calls': [{'function': {'arguments': '{\"query\":\"current weather in San Francisco\"}', 'name': 'tavily_search_results_json'}, 'id': 'call_k05aoERS784ji0P9G1HjABQo', 'type': 'function'}]}, response_metadata={'finish_reason': 'tool_calls', 'logprobs': None, 'model_name': 'gpt-3.5-turbo', 'system_fingerprint': None, 'token_usage': {'completion_tokens': 23, 'completion_tokens_details': {'accepted_prediction_tokens': 0, 'audio_tokens': 0, 'reasoning_tokens': 0, 'rejected_prediction_tokens': 0}, 'prompt_tokens': 119, 'prompt_tokens_details': {'audio_tokens': 0, 'cached_tokens': 0}, 'total_tokens': 142}}, id='run-fdd6627a-ca99-4174-a759-4be83247a8bb-0', tool_calls=[{'name': 'tavily_search_results_json', 'args': {'query': 'current weather in San Francisco'}, 'id': 'call_k05aoERS784ji0P9G1HjABQo'}]), ToolMessage(content='[{\\'url\\': \\'https://www.weatherapi.com/\\', \\'content\\': \"{\\'location\\': {\\'name\\': \\'San Francisco\\', \\'region\\': \\'California\\', \\'country\\': \\'United States of America\\', \\'lat\\': 37.775, \\'lon\\': -122.4183, \\'tz_id\\': \\'America/Los_Angeles\\', \\'localtime_epoch\\': 1747052103, \\'localtime\\': \\'2025-05-12 05:15\\'}, \\'current\\': {\\'last_updated_epoch\\': 1747052100, \\'last_updated\\': \\'2025-05-12 05:15\\', \\'temp_c\\': 13.9, \\'temp_f\\': 57.0, \\'is_day\\': 0, \\'condition\\': {\\'text\\': \\'Light rain\\', \\'icon\\': \\'//cdn.weatherapi.com/weather/64x64/night/296.png\\', \\'code\\': 1183}, \\'wind_mph\\': 11.6, \\'wind_kph\\': 18.7, \\'wind_degree\\': 189, \\'wind_dir\\': \\'S\\', \\'pressure_mb\\': 1013.0, \\'pressure_in\\': 29.92, \\'precip_mm\\': 1.5, \\'precip_in\\': 0.06, \\'humidity\\': 83, \\'cloud\\': 100, \\'feelslike_c\\': 12.4, \\'feelslike_f\\': 54.3, \\'windchill_c\\': 9.1, \\'windchill_f\\': 48.3, \\'heatindex_c\\': 11.0, \\'heatindex_f\\': 51.9, \\'dewpoint_c\\': 10.2, \\'dewpoint_f\\': 50.4, \\'vis_km\\': 16.0, \\'vis_miles\\': 9.0, \\'uv\\': 0.0, \\'gust_mph\\': 16.9, \\'gust_kph\\': 27.3}}\"}, {\\'url\\': \\'https://world-weather.info/forecast/usa/san_francisco/may-2025/\\', \\'content\\': \"Weather in San Francisco in May 2025\\\\n\\\\nSan Francisco Weather Forecast for May 2025 is based on long term prognosis and previous years\\' statistical data.\\\\n\\\\nMay\\\\n\\\\n+52°\\\\n\\\\n+52°\\\\n\\\\n+52°\\\\n\\\\n+50°\\\\n\\\\n+57°\\\\n\\\\n+55°\\\\n\\\\n+54°\\\\n\\\\n+50°\\\\n\\\\n+52°\\\\n\\\\n+54°\\\\n\\\\n+52°\\\\n\\\\n+55°\\\\n\\\\n+52°\\\\n\\\\n+52°\\\\n\\\\n+52°\\\\n\\\\n+52°\\\\n\\\\n+52°\\\\n\\\\n+52°\\\\n\\\\n+52°\\\\n\\\\n+52°\\\\n\\\\n+50°\\\\n\\\\n+55°\\\\n\\\\n+55°\\\\n\\\\n+54°\\\\n\\\\n+52°\\\\n\\\\n+54°\\\\n\\\\n+55°\\\\n\\\\n+57°\\\\n\\\\n+55°\\\\n\\\\n+55°\\\\n\\\\n+55°\\\\n\\\\nExtended weather forecast in San Francisco\\\\n\\\\nWeather in large and nearby cities\\\\n\\\\nWeather in Washington, D.C.+59°\\\\n\\\\nSacramento+54°\\\\n\\\\nPleasanton+55° [...] Redwood City+57°\\\\n\\\\nSan Leandro+57°\\\\n\\\\nSan Mateo+57°\\\\n\\\\nSan Rafael+55°\\\\n\\\\nSan Ramon+54°\\\\n\\\\nSouth San Francisco+55°\\\\n\\\\nVallejo+55°\\\\n\\\\nPalo Alto+55°\\\\n\\\\nPacifica+55°\\\\n\\\\nBerkeley+52°\\\\n\\\\nCastro Valley+55°\\\\n\\\\nConcord+57°\\\\n\\\\nDaly City+55°\\\\n\\\\nShafter+55°\\\\n\\\\nDonald+55°\"}]', name='tavily_search_results_json', id='5e6c12f0-bc38-4be2-880b-cfd7f2d1286a', tool_call_id='call_k05aoERS784ji0P9G1HjABQo'), AIMessage(content='The current weather in San Francisco is as follows:\\n- Temperature: 57.0°F (13.9°C)\\n- Condition: Light rain\\n- Wind: 18.7 km/h from the south\\n- Pressure: 29.92 inHg\\n- Humidity: 83%\\n- Visibility: 9.0 miles\\n- Precipitation: 0.06 in\\n\\nFor more details, you can visit [WeatherAPI](https://www.weatherapi.com/).', response_metadata={'token_usage': {'completion_tokens': 102, 'prompt_tokens': 987, 'total_tokens': 1089, 'prompt_tokens_details': {'cached_tokens': 0, 'audio_tokens': 0}, 'completion_tokens_details': {'reasoning_tokens': 0, 'audio_tokens': 0, 'accepted_prediction_tokens': 0, 'rejected_prediction_tokens': 0}}, 'model_name': 'gpt-3.5-turbo', 'system_fingerprint': None, 'finish_reason': 'stop', 'logprobs': None}, id='run-f33f9431-f671-44d0-afd1-e3397c339418-0')]}\n",
      "{'messages': [AIMessage(content='The current weather in San Francisco is as follows:\\n- Temperature: 57.0°F (13.9°C)\\n- Condition: Light rain\\n- Wind: 18.7 km/h from the south\\n- Pressure: 29.92 inHg\\n- Humidity: 83%\\n- Visibility: 9.0 miles\\n- Precipitation: 0.06 in\\n\\nFor more details, you can visit [WeatherAPI](https://www.weatherapi.com/).', response_metadata={'token_usage': {'completion_tokens': 102, 'prompt_tokens': 987, 'total_tokens': 1089, 'prompt_tokens_details': {'cached_tokens': 0, 'audio_tokens': 0}, 'completion_tokens_details': {'reasoning_tokens': 0, 'audio_tokens': 0, 'accepted_prediction_tokens': 0, 'rejected_prediction_tokens': 0}}, 'model_name': 'gpt-3.5-turbo', 'system_fingerprint': None, 'finish_reason': 'stop', 'logprobs': None}, id='run-f33f9431-f671-44d0-afd1-e3397c339418-0')]}\n"
     ]
    }
   ],
   "source": [
    "for event in abot.graph.stream(None, thread):\n",
    "    for v in event.values():\n",
    "        print(v)"
   ]
  },
  {
   "cell_type": "markdown",
   "id": "a1085538",
   "metadata": {},
   "source": [
    "Check the final state and verify `next` is empty:"
   ]
  },
  {
   "cell_type": "code",
   "execution_count": 11,
   "id": "8b6fe650",
   "metadata": {
    "height": 30
   },
   "outputs": [
    {
     "data": {
      "text/plain": [
       "StateSnapshot(values={'messages': [HumanMessage(content=\"What's the weather in SF?\", id='b1485b73-872f-4f05-a23f-41b1cbafede2'), AIMessage(content='', additional_kwargs={'tool_calls': [{'function': {'arguments': '{\"query\":\"current weather in San Francisco\"}', 'name': 'tavily_search_results_json'}, 'id': 'call_k05aoERS784ji0P9G1HjABQo', 'type': 'function'}]}, response_metadata={'finish_reason': 'tool_calls', 'logprobs': None, 'model_name': 'gpt-3.5-turbo', 'system_fingerprint': None, 'token_usage': {'completion_tokens': 23, 'completion_tokens_details': {'accepted_prediction_tokens': 0, 'audio_tokens': 0, 'reasoning_tokens': 0, 'rejected_prediction_tokens': 0}, 'prompt_tokens': 119, 'prompt_tokens_details': {'audio_tokens': 0, 'cached_tokens': 0}, 'total_tokens': 142}}, id='run-fdd6627a-ca99-4174-a759-4be83247a8bb-0', tool_calls=[{'name': 'tavily_search_results_json', 'args': {'query': 'current weather in San Francisco'}, 'id': 'call_k05aoERS784ji0P9G1HjABQo'}]), ToolMessage(content='[{\\'url\\': \\'https://www.weatherapi.com/\\', \\'content\\': \"{\\'location\\': {\\'name\\': \\'San Francisco\\', \\'region\\': \\'California\\', \\'country\\': \\'United States of America\\', \\'lat\\': 37.775, \\'lon\\': -122.4183, \\'tz_id\\': \\'America/Los_Angeles\\', \\'localtime_epoch\\': 1747052103, \\'localtime\\': \\'2025-05-12 05:15\\'}, \\'current\\': {\\'last_updated_epoch\\': 1747052100, \\'last_updated\\': \\'2025-05-12 05:15\\', \\'temp_c\\': 13.9, \\'temp_f\\': 57.0, \\'is_day\\': 0, \\'condition\\': {\\'text\\': \\'Light rain\\', \\'icon\\': \\'//cdn.weatherapi.com/weather/64x64/night/296.png\\', \\'code\\': 1183}, \\'wind_mph\\': 11.6, \\'wind_kph\\': 18.7, \\'wind_degree\\': 189, \\'wind_dir\\': \\'S\\', \\'pressure_mb\\': 1013.0, \\'pressure_in\\': 29.92, \\'precip_mm\\': 1.5, \\'precip_in\\': 0.06, \\'humidity\\': 83, \\'cloud\\': 100, \\'feelslike_c\\': 12.4, \\'feelslike_f\\': 54.3, \\'windchill_c\\': 9.1, \\'windchill_f\\': 48.3, \\'heatindex_c\\': 11.0, \\'heatindex_f\\': 51.9, \\'dewpoint_c\\': 10.2, \\'dewpoint_f\\': 50.4, \\'vis_km\\': 16.0, \\'vis_miles\\': 9.0, \\'uv\\': 0.0, \\'gust_mph\\': 16.9, \\'gust_kph\\': 27.3}}\"}, {\\'url\\': \\'https://world-weather.info/forecast/usa/san_francisco/may-2025/\\', \\'content\\': \"Weather in San Francisco in May 2025\\\\n\\\\nSan Francisco Weather Forecast for May 2025 is based on long term prognosis and previous years\\' statistical data.\\\\n\\\\nMay\\\\n\\\\n+52°\\\\n\\\\n+52°\\\\n\\\\n+52°\\\\n\\\\n+50°\\\\n\\\\n+57°\\\\n\\\\n+55°\\\\n\\\\n+54°\\\\n\\\\n+50°\\\\n\\\\n+52°\\\\n\\\\n+54°\\\\n\\\\n+52°\\\\n\\\\n+55°\\\\n\\\\n+52°\\\\n\\\\n+52°\\\\n\\\\n+52°\\\\n\\\\n+52°\\\\n\\\\n+52°\\\\n\\\\n+52°\\\\n\\\\n+52°\\\\n\\\\n+52°\\\\n\\\\n+50°\\\\n\\\\n+55°\\\\n\\\\n+55°\\\\n\\\\n+54°\\\\n\\\\n+52°\\\\n\\\\n+54°\\\\n\\\\n+55°\\\\n\\\\n+57°\\\\n\\\\n+55°\\\\n\\\\n+55°\\\\n\\\\n+55°\\\\n\\\\nExtended weather forecast in San Francisco\\\\n\\\\nWeather in large and nearby cities\\\\n\\\\nWeather in Washington, D.C.+59°\\\\n\\\\nSacramento+54°\\\\n\\\\nPleasanton+55° [...] Redwood City+57°\\\\n\\\\nSan Leandro+57°\\\\n\\\\nSan Mateo+57°\\\\n\\\\nSan Rafael+55°\\\\n\\\\nSan Ramon+54°\\\\n\\\\nSouth San Francisco+55°\\\\n\\\\nVallejo+55°\\\\n\\\\nPalo Alto+55°\\\\n\\\\nPacifica+55°\\\\n\\\\nBerkeley+52°\\\\n\\\\nCastro Valley+55°\\\\n\\\\nConcord+57°\\\\n\\\\nDaly City+55°\\\\n\\\\nShafter+55°\\\\n\\\\nDonald+55°\"}]', name='tavily_search_results_json', id='5e6c12f0-bc38-4be2-880b-cfd7f2d1286a', tool_call_id='call_k05aoERS784ji0P9G1HjABQo'), AIMessage(content='The current weather in San Francisco is as follows:\\n- Temperature: 57.0°F (13.9°C)\\n- Condition: Light rain\\n- Wind: 18.7 km/h from the south\\n- Pressure: 29.92 inHg\\n- Humidity: 83%\\n- Visibility: 9.0 miles\\n- Precipitation: 0.06 in\\n\\nFor more details, you can visit [WeatherAPI](https://www.weatherapi.com/).', response_metadata={'finish_reason': 'stop', 'logprobs': None, 'model_name': 'gpt-3.5-turbo', 'system_fingerprint': None, 'token_usage': {'completion_tokens': 102, 'completion_tokens_details': {'accepted_prediction_tokens': 0, 'audio_tokens': 0, 'reasoning_tokens': 0, 'rejected_prediction_tokens': 0}, 'prompt_tokens': 987, 'prompt_tokens_details': {'audio_tokens': 0, 'cached_tokens': 0}, 'total_tokens': 1089}}, id='run-f33f9431-f671-44d0-afd1-e3397c339418-0')]}, next=(), config={'configurable': {'thread_id': '1', 'thread_ts': '1f02f2ad-8c75-6838-8003-884b23a64f1c'}}, metadata={'source': 'loop', 'step': 3, 'writes': {'llm': {'messages': [AIMessage(content='The current weather in San Francisco is as follows:\\n- Temperature: 57.0°F (13.9°C)\\n- Condition: Light rain\\n- Wind: 18.7 km/h from the south\\n- Pressure: 29.92 inHg\\n- Humidity: 83%\\n- Visibility: 9.0 miles\\n- Precipitation: 0.06 in\\n\\nFor more details, you can visit [WeatherAPI](https://www.weatherapi.com/).', response_metadata={'finish_reason': 'stop', 'logprobs': None, 'model_name': 'gpt-3.5-turbo', 'system_fingerprint': None, 'token_usage': {'completion_tokens': 102, 'completion_tokens_details': {'accepted_prediction_tokens': 0, 'audio_tokens': 0, 'reasoning_tokens': 0, 'rejected_prediction_tokens': 0}, 'prompt_tokens': 987, 'prompt_tokens_details': {'audio_tokens': 0, 'cached_tokens': 0}, 'total_tokens': 1089}}, id='run-f33f9431-f671-44d0-afd1-e3397c339418-0')]}}}, created_at='2025-05-12T12:15:52.055982+00:00', parent_config={'configurable': {'thread_id': '1', 'thread_ts': '1f02f2ad-8c2c-62c1-8002-4fc509327cac'}})"
      ]
     },
     "execution_count": 11,
     "metadata": {},
     "output_type": "execute_result"
    }
   ],
   "source": [
    "abot.graph.get_state(thread)"
   ]
  },
  {
   "cell_type": "code",
   "execution_count": 12,
   "id": "d3f8cf53",
   "metadata": {
    "height": 30
   },
   "outputs": [
    {
     "data": {
      "text/plain": [
       "()"
      ]
     },
     "execution_count": 12,
     "metadata": {},
     "output_type": "execute_result"
    }
   ],
   "source": [
    "abot.graph.get_state(thread).next"
   ]
  },
  {
   "cell_type": "markdown",
   "id": "1b175609",
   "metadata": {},
   "source": [
    "#### Put everything together, loop for approval"
   ]
  },
  {
   "cell_type": "code",
   "execution_count": 13,
   "id": "b1a35e6b",
   "metadata": {
    "height": 285
   },
   "outputs": [
    {
     "name": "stdout",
     "output_type": "stream",
     "text": [
      "{'messages': [HumanMessage(content=\"What's the weather in LA?\", id='813b5471-e1bb-416a-b673-2668b094c42e'), AIMessage(content='', additional_kwargs={'tool_calls': [{'id': 'call_S6Brcb9hLrgNdpRrH0431u6d', 'function': {'arguments': '{\"query\":\"current weather in Los Angeles\"}', 'name': 'tavily_search_results_json'}, 'type': 'function'}]}, response_metadata={'token_usage': {'completion_tokens': 23, 'prompt_tokens': 119, 'total_tokens': 142, 'prompt_tokens_details': {'cached_tokens': 0, 'audio_tokens': 0}, 'completion_tokens_details': {'reasoning_tokens': 0, 'audio_tokens': 0, 'accepted_prediction_tokens': 0, 'rejected_prediction_tokens': 0}}, 'model_name': 'gpt-3.5-turbo', 'system_fingerprint': None, 'finish_reason': 'tool_calls', 'logprobs': None}, id='run-cf30be32-31b6-424f-83f4-ab59d1076aa4-0', tool_calls=[{'name': 'tavily_search_results_json', 'args': {'query': 'current weather in Los Angeles'}, 'id': 'call_S6Brcb9hLrgNdpRrH0431u6d'}])]}\n",
      "{'messages': [AIMessage(content='', additional_kwargs={'tool_calls': [{'id': 'call_S6Brcb9hLrgNdpRrH0431u6d', 'function': {'arguments': '{\"query\":\"current weather in Los Angeles\"}', 'name': 'tavily_search_results_json'}, 'type': 'function'}]}, response_metadata={'token_usage': {'completion_tokens': 23, 'prompt_tokens': 119, 'total_tokens': 142, 'prompt_tokens_details': {'cached_tokens': 0, 'audio_tokens': 0}, 'completion_tokens_details': {'reasoning_tokens': 0, 'audio_tokens': 0, 'accepted_prediction_tokens': 0, 'rejected_prediction_tokens': 0}}, 'model_name': 'gpt-3.5-turbo', 'system_fingerprint': None, 'finish_reason': 'tool_calls', 'logprobs': None}, id='run-cf30be32-31b6-424f-83f4-ab59d1076aa4-0', tool_calls=[{'name': 'tavily_search_results_json', 'args': {'query': 'current weather in Los Angeles'}, 'id': 'call_S6Brcb9hLrgNdpRrH0431u6d'}])]}\n",
      "Proceed with tool call? (y/n): n\n",
      "Aborting\n"
     ]
    }
   ],
   "source": [
    "messages = [HumanMessage(content=\"What's the weather in LA?\")]\n",
    "thread = {\"configurable\": {\"thread_id\": \"2\"}}\n",
    "\n",
    "for event in abot.graph.stream({\"messages\": messages}, thread):\n",
    "    for v in event.values():\n",
    "        print(v)\n",
    "\n",
    "# Interactive approval loop\n",
    "while abot.graph.get_state(thread).next:\n",
    "    proceed = input(\"Proceed with tool call? (y/n): \")\n",
    "    if proceed.lower() != \"y\":\n",
    "        print(\"Aborting\")\n",
    "        break\n",
    "    for event in abot.graph.stream(None, thread):\n",
    "        for v in event.values():\n",
    "            print(v)"
   ]
  },
  {
   "cell_type": "markdown",
   "id": "00c2b624",
   "metadata": {},
   "source": [
    "### 5. Exploring state memory & time‑travel\n",
    "\n",
    "Run until the interrupt and then modify the state"
   ]
  },
  {
   "cell_type": "code",
   "execution_count": 14,
   "id": "8f13d811",
   "metadata": {
    "height": 64
   },
   "outputs": [
    {
     "data": {
      "text/plain": [
       "StateSnapshot(values={'messages': [HumanMessage(content=\"What's the weather in LA?\", id='813b5471-e1bb-416a-b673-2668b094c42e'), AIMessage(content='', additional_kwargs={'tool_calls': [{'function': {'arguments': '{\"query\":\"current weather in Los Angeles\"}', 'name': 'tavily_search_results_json'}, 'id': 'call_S6Brcb9hLrgNdpRrH0431u6d', 'type': 'function'}]}, response_metadata={'finish_reason': 'tool_calls', 'logprobs': None, 'model_name': 'gpt-3.5-turbo', 'system_fingerprint': None, 'token_usage': {'completion_tokens': 23, 'completion_tokens_details': {'accepted_prediction_tokens': 0, 'audio_tokens': 0, 'reasoning_tokens': 0, 'rejected_prediction_tokens': 0}, 'prompt_tokens': 119, 'prompt_tokens_details': {'audio_tokens': 0, 'cached_tokens': 0}, 'total_tokens': 142}}, id='run-cf30be32-31b6-424f-83f4-ab59d1076aa4-0', tool_calls=[{'name': 'tavily_search_results_json', 'args': {'query': 'current weather in Los Angeles'}, 'id': 'call_S6Brcb9hLrgNdpRrH0431u6d'}])]}, next=('action',), config={'configurable': {'thread_id': '2', 'thread_ts': '1f02f2ad-8cda-6680-8001-a2a3040b900f'}}, metadata={'source': 'loop', 'step': 1, 'writes': {'llm': {'messages': [AIMessage(content='', additional_kwargs={'tool_calls': [{'function': {'arguments': '{\"query\":\"current weather in Los Angeles\"}', 'name': 'tavily_search_results_json'}, 'id': 'call_S6Brcb9hLrgNdpRrH0431u6d', 'type': 'function'}]}, response_metadata={'finish_reason': 'tool_calls', 'logprobs': None, 'model_name': 'gpt-3.5-turbo', 'system_fingerprint': None, 'token_usage': {'completion_tokens': 23, 'completion_tokens_details': {'accepted_prediction_tokens': 0, 'audio_tokens': 0, 'reasoning_tokens': 0, 'rejected_prediction_tokens': 0}, 'prompt_tokens': 119, 'prompt_tokens_details': {'audio_tokens': 0, 'cached_tokens': 0}, 'total_tokens': 142}}, id='run-cf30be32-31b6-424f-83f4-ab59d1076aa4-0', tool_calls=[{'name': 'tavily_search_results_json', 'args': {'query': 'current weather in Los Angeles'}, 'id': 'call_S6Brcb9hLrgNdpRrH0431u6d'}])]}}}, created_at='2025-05-12T12:15:52.097321+00:00', parent_config={'configurable': {'thread_id': '2', 'thread_ts': '1f02f2ad-8c9b-682a-8000-b5fab727f531'}})"
      ]
     },
     "execution_count": 14,
     "metadata": {},
     "output_type": "execute_result"
    }
   ],
   "source": [
    "# Capture a state snapshot\n",
    "current_values = abot.graph.get_state(thread)\n",
    "current_values"
   ]
  },
  {
   "cell_type": "code",
   "execution_count": 15,
   "id": "707649a2",
   "metadata": {
    "height": 64
   },
   "outputs": [
    {
     "data": {
      "text/plain": [
       "AIMessage(content='', additional_kwargs={'tool_calls': [{'function': {'arguments': '{\"query\":\"current weather in Los Angeles\"}', 'name': 'tavily_search_results_json'}, 'id': 'call_S6Brcb9hLrgNdpRrH0431u6d', 'type': 'function'}]}, response_metadata={'finish_reason': 'tool_calls', 'logprobs': None, 'model_name': 'gpt-3.5-turbo', 'system_fingerprint': None, 'token_usage': {'completion_tokens': 23, 'completion_tokens_details': {'accepted_prediction_tokens': 0, 'audio_tokens': 0, 'reasoning_tokens': 0, 'rejected_prediction_tokens': 0}, 'prompt_tokens': 119, 'prompt_tokens_details': {'audio_tokens': 0, 'cached_tokens': 0}, 'total_tokens': 142}}, id='run-cf30be32-31b6-424f-83f4-ab59d1076aa4-0', tool_calls=[{'name': 'tavily_search_results_json', 'args': {'query': 'current weather in Los Angeles'}, 'id': 'call_S6Brcb9hLrgNdpRrH0431u6d'}])"
      ]
     },
     "execution_count": 15,
     "metadata": {},
     "output_type": "execute_result"
    }
   ],
   "source": [
    "# Get the tool call\n",
    "id_current_values = -1\n",
    "current_values.values['messages'][id_current_values]"
   ]
  },
  {
   "cell_type": "code",
   "execution_count": 16,
   "id": "e35fa991",
   "metadata": {
    "height": 30
   },
   "outputs": [
    {
     "data": {
      "text/plain": [
       "[{'name': 'tavily_search_results_json',\n",
       "  'args': {'query': 'current weather in Los Angeles'},\n",
       "  'id': 'call_S6Brcb9hLrgNdpRrH0431u6d'}]"
      ]
     },
     "execution_count": 16,
     "metadata": {},
     "output_type": "execute_result"
    }
   ],
   "source": [
    "current_values.values['messages'][id_current_values].tool_calls"
   ]
  },
  {
   "cell_type": "code",
   "execution_count": 17,
   "id": "c6d37aa7",
   "metadata": {
    "height": 166
   },
   "outputs": [],
   "source": [
    "# Get the tool call ID\n",
    "_id = current_values.values['messages'][id_current_values].tool_calls[0]['id']\n",
    "\n",
    "# Replace the tool call with a new one (modify query)\n",
    "current_values.values['messages'][id_current_values].tool_calls = [\n",
    "    {'name': 'tavily_search_results_json',\n",
    "  'args': {'query': 'current weather in Louisiana'},\n",
    "  'id': _id}\n",
    "]"
   ]
  },
  {
   "cell_type": "code",
   "execution_count": 18,
   "id": "626100d9",
   "metadata": {
    "height": 47
   },
   "outputs": [
    {
     "name": "stdout",
     "output_type": "stream",
     "text": [
      "{'messages': [HumanMessage(content=\"What's the weather in LA?\", id='813b5471-e1bb-416a-b673-2668b094c42e'), AIMessage(content='', additional_kwargs={'tool_calls': [{'function': {'arguments': '{\"query\":\"current weather in Los Angeles\"}', 'name': 'tavily_search_results_json'}, 'id': 'call_S6Brcb9hLrgNdpRrH0431u6d', 'type': 'function'}]}, response_metadata={'finish_reason': 'tool_calls', 'logprobs': None, 'model_name': 'gpt-3.5-turbo', 'system_fingerprint': None, 'token_usage': {'completion_tokens': 23, 'completion_tokens_details': {'accepted_prediction_tokens': 0, 'audio_tokens': 0, 'reasoning_tokens': 0, 'rejected_prediction_tokens': 0}, 'prompt_tokens': 119, 'prompt_tokens_details': {'audio_tokens': 0, 'cached_tokens': 0}, 'total_tokens': 142}}, id='run-cf30be32-31b6-424f-83f4-ab59d1076aa4-0', tool_calls=[{'name': 'tavily_search_results_json', 'args': {'query': 'current weather in Louisiana'}, 'id': 'call_S6Brcb9hLrgNdpRrH0431u6d'}])]}\n"
     ]
    },
    {
     "data": {
      "text/plain": [
       "{'configurable': {'thread_id': '2',\n",
       "  'thread_ts': '1f02f2ad-e797-60a3-8002-06de6f1e24b4'}}"
      ]
     },
     "execution_count": 18,
     "metadata": {},
     "output_type": "execute_result"
    }
   ],
   "source": [
    "# Update the state of the agent\n",
    "abot.graph.update_state(thread, current_values.values)"
   ]
  },
  {
   "cell_type": "code",
   "execution_count": 19,
   "id": "dbf3dd44",
   "metadata": {
    "height": 30
   },
   "outputs": [
    {
     "data": {
      "text/plain": [
       "StateSnapshot(values={'messages': [HumanMessage(content=\"What's the weather in LA?\", id='813b5471-e1bb-416a-b673-2668b094c42e'), AIMessage(content='', additional_kwargs={'tool_calls': [{'function': {'arguments': '{\"query\":\"current weather in Los Angeles\"}', 'name': 'tavily_search_results_json'}, 'id': 'call_S6Brcb9hLrgNdpRrH0431u6d', 'type': 'function'}]}, response_metadata={'finish_reason': 'tool_calls', 'logprobs': None, 'model_name': 'gpt-3.5-turbo', 'system_fingerprint': None, 'token_usage': {'completion_tokens': 23, 'completion_tokens_details': {'accepted_prediction_tokens': 0, 'audio_tokens': 0, 'reasoning_tokens': 0, 'rejected_prediction_tokens': 0}, 'prompt_tokens': 119, 'prompt_tokens_details': {'audio_tokens': 0, 'cached_tokens': 0}, 'total_tokens': 142}}, id='run-cf30be32-31b6-424f-83f4-ab59d1076aa4-0', tool_calls=[{'name': 'tavily_search_results_json', 'args': {'query': 'current weather in Louisiana'}, 'id': 'call_S6Brcb9hLrgNdpRrH0431u6d'}])]}, next=('action',), config={'configurable': {'thread_id': '2', 'thread_ts': '1f02f2ad-e797-60a3-8002-06de6f1e24b4'}}, metadata={'source': 'update', 'step': 2, 'writes': {'llm': {'messages': [HumanMessage(content=\"What's the weather in LA?\", id='813b5471-e1bb-416a-b673-2668b094c42e'), AIMessage(content='', additional_kwargs={'tool_calls': [{'function': {'arguments': '{\"query\":\"current weather in Los Angeles\"}', 'name': 'tavily_search_results_json'}, 'id': 'call_S6Brcb9hLrgNdpRrH0431u6d', 'type': 'function'}]}, response_metadata={'finish_reason': 'tool_calls', 'logprobs': None, 'model_name': 'gpt-3.5-turbo', 'system_fingerprint': None, 'token_usage': {'completion_tokens': 23, 'completion_tokens_details': {'accepted_prediction_tokens': 0, 'audio_tokens': 0, 'reasoning_tokens': 0, 'rejected_prediction_tokens': 0}, 'prompt_tokens': 119, 'prompt_tokens_details': {'audio_tokens': 0, 'cached_tokens': 0}, 'total_tokens': 142}}, id='run-cf30be32-31b6-424f-83f4-ab59d1076aa4-0', tool_calls=[{'name': 'tavily_search_results_json', 'args': {'query': 'current weather in Louisiana'}, 'id': 'call_S6Brcb9hLrgNdpRrH0431u6d'}])]}}}, created_at='2025-05-12T12:16:01.611779+00:00', parent_config={'configurable': {'thread_id': '2', 'thread_ts': '1f02f2ad-8cda-6680-8001-a2a3040b900f'}})"
      ]
     },
     "execution_count": 19,
     "metadata": {},
     "output_type": "execute_result"
    }
   ],
   "source": [
    "abot.graph.get_state(thread)"
   ]
  },
  {
   "cell_type": "code",
   "execution_count": 20,
   "id": "00aab097",
   "metadata": {
    "height": 81
   },
   "outputs": [
    {
     "name": "stdout",
     "output_type": "stream",
     "text": [
      "🔧 Calling tool: {'name': 'tavily_search_results_json', 'args': {'query': 'current weather in Louisiana'}, 'id': 'call_S6Brcb9hLrgNdpRrH0431u6d'}\n",
      "Back to the LLM\n",
      "{'messages': [ToolMessage(content='[{\\'url\\': \\'https://www.weatherapi.com/\\', \\'content\\': \"{\\'location\\': {\\'name\\': \\'Louisiana\\', \\'region\\': \\'Missouri\\', \\'country\\': \\'USA United States of America\\', \\'lat\\': 39.4411, \\'lon\\': -91.0551, \\'tz_id\\': \\'America/Chicago\\', \\'localtime_epoch\\': 1747052163, \\'localtime\\': \\'2025-05-12 07:16\\'}, \\'current\\': {\\'last_updated_epoch\\': 1747052100, \\'last_updated\\': \\'2025-05-12 07:15\\', \\'temp_c\\': 15.1, \\'temp_f\\': 59.2, \\'is_day\\': 1, \\'condition\\': {\\'text\\': \\'Overcast\\', \\'icon\\': \\'//cdn.weatherapi.com/weather/64x64/day/122.png\\', \\'code\\': 1009}, \\'wind_mph\\': 3.1, \\'wind_kph\\': 5.0, \\'wind_degree\\': 70, \\'wind_dir\\': \\'ENE\\', \\'pressure_mb\\': 1017.0, \\'pressure_in\\': 30.02, \\'precip_mm\\': 0.0, \\'precip_in\\': 0.0, \\'humidity\\': 73, \\'cloud\\': 0, \\'feelslike_c\\': 15.1, \\'feelslike_f\\': 59.2, \\'windchill_c\\': 14.1, \\'windchill_f\\': 57.3, \\'heatindex_c\\': 14.4, \\'heatindex_f\\': 57.9, \\'dewpoint_c\\': 11.9, \\'dewpoint_f\\': 53.3, \\'vis_km\\': 16.0, \\'vis_miles\\': 9.0, \\'uv\\': 0.3, \\'gust_mph\\': 6.0, \\'gust_kph\\': 9.7}}\"}, {\\'url\\': \\'https://www.wdsu.com/weather\\', \\'content\\': \\'Showers and thunderstorms likely - heavy rainfall is possible, especially during the morning. High 73F. Winds NE at 10 to 15 mph. Chance of rain 100%.\\'}]', name='tavily_search_results_json', id='83a80cb3-6a9b-4a1b-ac7f-d7506febf5f6', tool_call_id='call_S6Brcb9hLrgNdpRrH0431u6d')]}\n",
      "{'messages': [HumanMessage(content=\"What's the weather in LA?\", id='813b5471-e1bb-416a-b673-2668b094c42e'), AIMessage(content='', additional_kwargs={'tool_calls': [{'function': {'arguments': '{\"query\":\"current weather in Los Angeles\"}', 'name': 'tavily_search_results_json'}, 'id': 'call_S6Brcb9hLrgNdpRrH0431u6d', 'type': 'function'}]}, response_metadata={'finish_reason': 'tool_calls', 'logprobs': None, 'model_name': 'gpt-3.5-turbo', 'system_fingerprint': None, 'token_usage': {'completion_tokens': 23, 'completion_tokens_details': {'accepted_prediction_tokens': 0, 'audio_tokens': 0, 'reasoning_tokens': 0, 'rejected_prediction_tokens': 0}, 'prompt_tokens': 119, 'prompt_tokens_details': {'audio_tokens': 0, 'cached_tokens': 0}, 'total_tokens': 142}}, id='run-cf30be32-31b6-424f-83f4-ab59d1076aa4-0', tool_calls=[{'name': 'tavily_search_results_json', 'args': {'query': 'current weather in Louisiana'}, 'id': 'call_S6Brcb9hLrgNdpRrH0431u6d'}]), ToolMessage(content='[{\\'url\\': \\'https://www.weatherapi.com/\\', \\'content\\': \"{\\'location\\': {\\'name\\': \\'Louisiana\\', \\'region\\': \\'Missouri\\', \\'country\\': \\'USA United States of America\\', \\'lat\\': 39.4411, \\'lon\\': -91.0551, \\'tz_id\\': \\'America/Chicago\\', \\'localtime_epoch\\': 1747052163, \\'localtime\\': \\'2025-05-12 07:16\\'}, \\'current\\': {\\'last_updated_epoch\\': 1747052100, \\'last_updated\\': \\'2025-05-12 07:15\\', \\'temp_c\\': 15.1, \\'temp_f\\': 59.2, \\'is_day\\': 1, \\'condition\\': {\\'text\\': \\'Overcast\\', \\'icon\\': \\'//cdn.weatherapi.com/weather/64x64/day/122.png\\', \\'code\\': 1009}, \\'wind_mph\\': 3.1, \\'wind_kph\\': 5.0, \\'wind_degree\\': 70, \\'wind_dir\\': \\'ENE\\', \\'pressure_mb\\': 1017.0, \\'pressure_in\\': 30.02, \\'precip_mm\\': 0.0, \\'precip_in\\': 0.0, \\'humidity\\': 73, \\'cloud\\': 0, \\'feelslike_c\\': 15.1, \\'feelslike_f\\': 59.2, \\'windchill_c\\': 14.1, \\'windchill_f\\': 57.3, \\'heatindex_c\\': 14.4, \\'heatindex_f\\': 57.9, \\'dewpoint_c\\': 11.9, \\'dewpoint_f\\': 53.3, \\'vis_km\\': 16.0, \\'vis_miles\\': 9.0, \\'uv\\': 0.3, \\'gust_mph\\': 6.0, \\'gust_kph\\': 9.7}}\"}, {\\'url\\': \\'https://www.wdsu.com/weather\\', \\'content\\': \\'Showers and thunderstorms likely - heavy rainfall is possible, especially during the morning. High 73F. Winds NE at 10 to 15 mph. Chance of rain 100%.\\'}]', name='tavily_search_results_json', id='83a80cb3-6a9b-4a1b-ac7f-d7506febf5f6', tool_call_id='call_S6Brcb9hLrgNdpRrH0431u6d'), AIMessage(content='The current weather in Louisiana is overcast with a temperature of 59.2°F (15.1°C). The wind is blowing at 5.0 km/h from the east-northeast direction. The humidity is at 73%, with no precipitation at the moment. The visibility is 9.0 miles, and the UV index is 0.3.\\n\\nIf you were referring to Los Angeles instead of Louisiana, please let me know so I can provide the weather information for Los Angeles.', response_metadata={'token_usage': {'completion_tokens': 103, 'prompt_tokens': 617, 'total_tokens': 720, 'prompt_tokens_details': {'cached_tokens': 0, 'audio_tokens': 0}, 'completion_tokens_details': {'reasoning_tokens': 0, 'audio_tokens': 0, 'accepted_prediction_tokens': 0, 'rejected_prediction_tokens': 0}}, 'model_name': 'gpt-3.5-turbo', 'system_fingerprint': None, 'finish_reason': 'stop', 'logprobs': None}, id='run-6f6b717d-095d-4bc0-8c20-df4ab19563eb-0')]}\n",
      "{'messages': [AIMessage(content='The current weather in Louisiana is overcast with a temperature of 59.2°F (15.1°C). The wind is blowing at 5.0 km/h from the east-northeast direction. The humidity is at 73%, with no precipitation at the moment. The visibility is 9.0 miles, and the UV index is 0.3.\\n\\nIf you were referring to Los Angeles instead of Louisiana, please let me know so I can provide the weather information for Los Angeles.', response_metadata={'token_usage': {'completion_tokens': 103, 'prompt_tokens': 617, 'total_tokens': 720, 'prompt_tokens_details': {'cached_tokens': 0, 'audio_tokens': 0}, 'completion_tokens_details': {'reasoning_tokens': 0, 'audio_tokens': 0, 'accepted_prediction_tokens': 0, 'rejected_prediction_tokens': 0}}, 'model_name': 'gpt-3.5-turbo', 'system_fingerprint': None, 'finish_reason': 'stop', 'logprobs': None}, id='run-6f6b717d-095d-4bc0-8c20-df4ab19563eb-0')]}\n"
     ]
    }
   ],
   "source": [
    "# Stream the agent's responses\n",
    "for event in abot.graph.stream(None, thread):\n",
    "    for v in event.values():\n",
    "        print(v)"
   ]
  },
  {
   "cell_type": "code",
   "execution_count": 21,
   "id": "b7265c1c",
   "metadata": {
    "height": 98
   },
   "outputs": [
    {
     "name": "stdout",
     "output_type": "stream",
     "text": [
      "– StateSnapshot(values={'messages': [HumanMessage(content=\"What's the weather in LA?\", id='813b5471-e1bb-416a-b673-2668b094c42e'), AIMessage(content='', additional_kwargs={'tool_calls': [{'function': {'arguments': '{\"query\":\"current weather in Los Angeles\"}', 'name': 'tavily_search_results_json'}, 'id': 'call_S6Brcb9hLrgNdpRrH0431u6d', 'type': 'function'}]}, response_metadata={'finish_reason': 'tool_calls', 'logprobs': None, 'model_name': 'gpt-3.5-turbo', 'system_fingerprint': None, 'token_usage': {'completion_tokens': 23, 'completion_tokens_details': {'accepted_prediction_tokens': 0, 'audio_tokens': 0, 'reasoning_tokens': 0, 'rejected_prediction_tokens': 0}, 'prompt_tokens': 119, 'prompt_tokens_details': {'audio_tokens': 0, 'cached_tokens': 0}, 'total_tokens': 142}}, id='run-cf30be32-31b6-424f-83f4-ab59d1076aa4-0', tool_calls=[{'name': 'tavily_search_results_json', 'args': {'query': 'current weather in Louisiana'}, 'id': 'call_S6Brcb9hLrgNdpRrH0431u6d'}]), ToolMessage(content='[{\\'url\\': \\'https://www.weatherapi.com/\\', \\'content\\': \"{\\'location\\': {\\'name\\': \\'Louisiana\\', \\'region\\': \\'Missouri\\', \\'country\\': \\'USA United States of America\\', \\'lat\\': 39.4411, \\'lon\\': -91.0551, \\'tz_id\\': \\'America/Chicago\\', \\'localtime_epoch\\': 1747052163, \\'localtime\\': \\'2025-05-12 07:16\\'}, \\'current\\': {\\'last_updated_epoch\\': 1747052100, \\'last_updated\\': \\'2025-05-12 07:15\\', \\'temp_c\\': 15.1, \\'temp_f\\': 59.2, \\'is_day\\': 1, \\'condition\\': {\\'text\\': \\'Overcast\\', \\'icon\\': \\'//cdn.weatherapi.com/weather/64x64/day/122.png\\', \\'code\\': 1009}, \\'wind_mph\\': 3.1, \\'wind_kph\\': 5.0, \\'wind_degree\\': 70, \\'wind_dir\\': \\'ENE\\', \\'pressure_mb\\': 1017.0, \\'pressure_in\\': 30.02, \\'precip_mm\\': 0.0, \\'precip_in\\': 0.0, \\'humidity\\': 73, \\'cloud\\': 0, \\'feelslike_c\\': 15.1, \\'feelslike_f\\': 59.2, \\'windchill_c\\': 14.1, \\'windchill_f\\': 57.3, \\'heatindex_c\\': 14.4, \\'heatindex_f\\': 57.9, \\'dewpoint_c\\': 11.9, \\'dewpoint_f\\': 53.3, \\'vis_km\\': 16.0, \\'vis_miles\\': 9.0, \\'uv\\': 0.3, \\'gust_mph\\': 6.0, \\'gust_kph\\': 9.7}}\"}, {\\'url\\': \\'https://www.wdsu.com/weather\\', \\'content\\': \\'Showers and thunderstorms likely - heavy rainfall is possible, especially during the morning. High 73F. Winds NE at 10 to 15 mph. Chance of rain 100%.\\'}]', name='tavily_search_results_json', id='83a80cb3-6a9b-4a1b-ac7f-d7506febf5f6', tool_call_id='call_S6Brcb9hLrgNdpRrH0431u6d'), AIMessage(content='The current weather in Louisiana is overcast with a temperature of 59.2°F (15.1°C). The wind is blowing at 5.0 km/h from the east-northeast direction. The humidity is at 73%, with no precipitation at the moment. The visibility is 9.0 miles, and the UV index is 0.3.\\n\\nIf you were referring to Los Angeles instead of Louisiana, please let me know so I can provide the weather information for Los Angeles.', response_metadata={'finish_reason': 'stop', 'logprobs': None, 'model_name': 'gpt-3.5-turbo', 'system_fingerprint': None, 'token_usage': {'completion_tokens': 103, 'completion_tokens_details': {'accepted_prediction_tokens': 0, 'audio_tokens': 0, 'reasoning_tokens': 0, 'rejected_prediction_tokens': 0}, 'prompt_tokens': 617, 'prompt_tokens_details': {'audio_tokens': 0, 'cached_tokens': 0}, 'total_tokens': 720}}, id='run-6f6b717d-095d-4bc0-8c20-df4ab19563eb-0')]}, next=(), config={'configurable': {'thread_id': '2', 'thread_ts': '1f02f2ae-1e8c-615f-8004-9045251ccfba'}}, metadata={'source': 'loop', 'step': 4, 'writes': {'llm': {'messages': [AIMessage(content='The current weather in Louisiana is overcast with a temperature of 59.2°F (15.1°C). The wind is blowing at 5.0 km/h from the east-northeast direction. The humidity is at 73%, with no precipitation at the moment. The visibility is 9.0 miles, and the UV index is 0.3.\\n\\nIf you were referring to Los Angeles instead of Louisiana, please let me know so I can provide the weather information for Los Angeles.', response_metadata={'finish_reason': 'stop', 'logprobs': None, 'model_name': 'gpt-3.5-turbo', 'system_fingerprint': None, 'token_usage': {'completion_tokens': 103, 'completion_tokens_details': {'accepted_prediction_tokens': 0, 'audio_tokens': 0, 'reasoning_tokens': 0, 'rejected_prediction_tokens': 0}, 'prompt_tokens': 617, 'prompt_tokens_details': {'audio_tokens': 0, 'cached_tokens': 0}, 'total_tokens': 720}}, id='run-6f6b717d-095d-4bc0-8c20-df4ab19563eb-0')]}}}, created_at='2025-05-12T12:16:07.374454+00:00', parent_config={'configurable': {'thread_id': '2', 'thread_ts': '1f02f2ae-1280-6958-8003-6df186dce000'}})\n",
      "– StateSnapshot(values={'messages': [HumanMessage(content=\"What's the weather in LA?\", id='813b5471-e1bb-416a-b673-2668b094c42e'), AIMessage(content='', additional_kwargs={'tool_calls': [{'function': {'arguments': '{\"query\":\"current weather in Los Angeles\"}', 'name': 'tavily_search_results_json'}, 'id': 'call_S6Brcb9hLrgNdpRrH0431u6d', 'type': 'function'}]}, response_metadata={'finish_reason': 'tool_calls', 'logprobs': None, 'model_name': 'gpt-3.5-turbo', 'system_fingerprint': None, 'token_usage': {'completion_tokens': 23, 'completion_tokens_details': {'accepted_prediction_tokens': 0, 'audio_tokens': 0, 'reasoning_tokens': 0, 'rejected_prediction_tokens': 0}, 'prompt_tokens': 119, 'prompt_tokens_details': {'audio_tokens': 0, 'cached_tokens': 0}, 'total_tokens': 142}}, id='run-cf30be32-31b6-424f-83f4-ab59d1076aa4-0', tool_calls=[{'name': 'tavily_search_results_json', 'args': {'query': 'current weather in Louisiana'}, 'id': 'call_S6Brcb9hLrgNdpRrH0431u6d'}]), ToolMessage(content='[{\\'url\\': \\'https://www.weatherapi.com/\\', \\'content\\': \"{\\'location\\': {\\'name\\': \\'Louisiana\\', \\'region\\': \\'Missouri\\', \\'country\\': \\'USA United States of America\\', \\'lat\\': 39.4411, \\'lon\\': -91.0551, \\'tz_id\\': \\'America/Chicago\\', \\'localtime_epoch\\': 1747052163, \\'localtime\\': \\'2025-05-12 07:16\\'}, \\'current\\': {\\'last_updated_epoch\\': 1747052100, \\'last_updated\\': \\'2025-05-12 07:15\\', \\'temp_c\\': 15.1, \\'temp_f\\': 59.2, \\'is_day\\': 1, \\'condition\\': {\\'text\\': \\'Overcast\\', \\'icon\\': \\'//cdn.weatherapi.com/weather/64x64/day/122.png\\', \\'code\\': 1009}, \\'wind_mph\\': 3.1, \\'wind_kph\\': 5.0, \\'wind_degree\\': 70, \\'wind_dir\\': \\'ENE\\', \\'pressure_mb\\': 1017.0, \\'pressure_in\\': 30.02, \\'precip_mm\\': 0.0, \\'precip_in\\': 0.0, \\'humidity\\': 73, \\'cloud\\': 0, \\'feelslike_c\\': 15.1, \\'feelslike_f\\': 59.2, \\'windchill_c\\': 14.1, \\'windchill_f\\': 57.3, \\'heatindex_c\\': 14.4, \\'heatindex_f\\': 57.9, \\'dewpoint_c\\': 11.9, \\'dewpoint_f\\': 53.3, \\'vis_km\\': 16.0, \\'vis_miles\\': 9.0, \\'uv\\': 0.3, \\'gust_mph\\': 6.0, \\'gust_kph\\': 9.7}}\"}, {\\'url\\': \\'https://www.wdsu.com/weather\\', \\'content\\': \\'Showers and thunderstorms likely - heavy rainfall is possible, especially during the morning. High 73F. Winds NE at 10 to 15 mph. Chance of rain 100%.\\'}]', name='tavily_search_results_json', id='83a80cb3-6a9b-4a1b-ac7f-d7506febf5f6', tool_call_id='call_S6Brcb9hLrgNdpRrH0431u6d')]}, next=('llm',), config={'configurable': {'thread_id': '2', 'thread_ts': '1f02f2ae-1280-6958-8003-6df186dce000'}}, metadata={'source': 'loop', 'step': 3, 'writes': {'action': {'messages': [ToolMessage(content='[{\\'url\\': \\'https://www.weatherapi.com/\\', \\'content\\': \"{\\'location\\': {\\'name\\': \\'Louisiana\\', \\'region\\': \\'Missouri\\', \\'country\\': \\'USA United States of America\\', \\'lat\\': 39.4411, \\'lon\\': -91.0551, \\'tz_id\\': \\'America/Chicago\\', \\'localtime_epoch\\': 1747052163, \\'localtime\\': \\'2025-05-12 07:16\\'}, \\'current\\': {\\'last_updated_epoch\\': 1747052100, \\'last_updated\\': \\'2025-05-12 07:15\\', \\'temp_c\\': 15.1, \\'temp_f\\': 59.2, \\'is_day\\': 1, \\'condition\\': {\\'text\\': \\'Overcast\\', \\'icon\\': \\'//cdn.weatherapi.com/weather/64x64/day/122.png\\', \\'code\\': 1009}, \\'wind_mph\\': 3.1, \\'wind_kph\\': 5.0, \\'wind_degree\\': 70, \\'wind_dir\\': \\'ENE\\', \\'pressure_mb\\': 1017.0, \\'pressure_in\\': 30.02, \\'precip_mm\\': 0.0, \\'precip_in\\': 0.0, \\'humidity\\': 73, \\'cloud\\': 0, \\'feelslike_c\\': 15.1, \\'feelslike_f\\': 59.2, \\'windchill_c\\': 14.1, \\'windchill_f\\': 57.3, \\'heatindex_c\\': 14.4, \\'heatindex_f\\': 57.9, \\'dewpoint_c\\': 11.9, \\'dewpoint_f\\': 53.3, \\'vis_km\\': 16.0, \\'vis_miles\\': 9.0, \\'uv\\': 0.3, \\'gust_mph\\': 6.0, \\'gust_kph\\': 9.7}}\"}, {\\'url\\': \\'https://www.wdsu.com/weather\\', \\'content\\': \\'Showers and thunderstorms likely - heavy rainfall is possible, especially during the morning. High 73F. Winds NE at 10 to 15 mph. Chance of rain 100%.\\'}]', name='tavily_search_results_json', id='83a80cb3-6a9b-4a1b-ac7f-d7506febf5f6', tool_call_id='call_S6Brcb9hLrgNdpRrH0431u6d')]}}}, created_at='2025-05-12T12:16:06.111439+00:00', parent_config={'configurable': {'thread_id': '2', 'thread_ts': '1f02f2ad-e797-60a3-8002-06de6f1e24b4'}})\n",
      "– StateSnapshot(values={'messages': [HumanMessage(content=\"What's the weather in LA?\", id='813b5471-e1bb-416a-b673-2668b094c42e'), AIMessage(content='', additional_kwargs={'tool_calls': [{'function': {'arguments': '{\"query\":\"current weather in Los Angeles\"}', 'name': 'tavily_search_results_json'}, 'id': 'call_S6Brcb9hLrgNdpRrH0431u6d', 'type': 'function'}]}, response_metadata={'finish_reason': 'tool_calls', 'logprobs': None, 'model_name': 'gpt-3.5-turbo', 'system_fingerprint': None, 'token_usage': {'completion_tokens': 23, 'completion_tokens_details': {'accepted_prediction_tokens': 0, 'audio_tokens': 0, 'reasoning_tokens': 0, 'rejected_prediction_tokens': 0}, 'prompt_tokens': 119, 'prompt_tokens_details': {'audio_tokens': 0, 'cached_tokens': 0}, 'total_tokens': 142}}, id='run-cf30be32-31b6-424f-83f4-ab59d1076aa4-0', tool_calls=[{'name': 'tavily_search_results_json', 'args': {'query': 'current weather in Louisiana'}, 'id': 'call_S6Brcb9hLrgNdpRrH0431u6d'}])]}, next=('action',), config={'configurable': {'thread_id': '2', 'thread_ts': '1f02f2ad-e797-60a3-8002-06de6f1e24b4'}}, metadata={'source': 'update', 'step': 2, 'writes': {'llm': {'messages': [HumanMessage(content=\"What's the weather in LA?\", id='813b5471-e1bb-416a-b673-2668b094c42e'), AIMessage(content='', additional_kwargs={'tool_calls': [{'function': {'arguments': '{\"query\":\"current weather in Los Angeles\"}', 'name': 'tavily_search_results_json'}, 'id': 'call_S6Brcb9hLrgNdpRrH0431u6d', 'type': 'function'}]}, response_metadata={'finish_reason': 'tool_calls', 'logprobs': None, 'model_name': 'gpt-3.5-turbo', 'system_fingerprint': None, 'token_usage': {'completion_tokens': 23, 'completion_tokens_details': {'accepted_prediction_tokens': 0, 'audio_tokens': 0, 'reasoning_tokens': 0, 'rejected_prediction_tokens': 0}, 'prompt_tokens': 119, 'prompt_tokens_details': {'audio_tokens': 0, 'cached_tokens': 0}, 'total_tokens': 142}}, id='run-cf30be32-31b6-424f-83f4-ab59d1076aa4-0', tool_calls=[{'name': 'tavily_search_results_json', 'args': {'query': 'current weather in Louisiana'}, 'id': 'call_S6Brcb9hLrgNdpRrH0431u6d'}])]}}}, created_at='2025-05-12T12:16:01.611779+00:00', parent_config={'configurable': {'thread_id': '2', 'thread_ts': '1f02f2ad-8cda-6680-8001-a2a3040b900f'}})\n",
      "– StateSnapshot(values={'messages': [HumanMessage(content=\"What's the weather in LA?\", id='813b5471-e1bb-416a-b673-2668b094c42e'), AIMessage(content='', additional_kwargs={'tool_calls': [{'function': {'arguments': '{\"query\":\"current weather in Los Angeles\"}', 'name': 'tavily_search_results_json'}, 'id': 'call_S6Brcb9hLrgNdpRrH0431u6d', 'type': 'function'}]}, response_metadata={'finish_reason': 'tool_calls', 'logprobs': None, 'model_name': 'gpt-3.5-turbo', 'system_fingerprint': None, 'token_usage': {'completion_tokens': 23, 'completion_tokens_details': {'accepted_prediction_tokens': 0, 'audio_tokens': 0, 'reasoning_tokens': 0, 'rejected_prediction_tokens': 0}, 'prompt_tokens': 119, 'prompt_tokens_details': {'audio_tokens': 0, 'cached_tokens': 0}, 'total_tokens': 142}}, id='run-cf30be32-31b6-424f-83f4-ab59d1076aa4-0', tool_calls=[{'name': 'tavily_search_results_json', 'args': {'query': 'current weather in Los Angeles'}, 'id': 'call_S6Brcb9hLrgNdpRrH0431u6d'}])]}, next=('action',), config={'configurable': {'thread_id': '2', 'thread_ts': '1f02f2ad-8cda-6680-8001-a2a3040b900f'}}, metadata={'source': 'loop', 'step': 1, 'writes': {'llm': {'messages': [AIMessage(content='', additional_kwargs={'tool_calls': [{'function': {'arguments': '{\"query\":\"current weather in Los Angeles\"}', 'name': 'tavily_search_results_json'}, 'id': 'call_S6Brcb9hLrgNdpRrH0431u6d', 'type': 'function'}]}, response_metadata={'finish_reason': 'tool_calls', 'logprobs': None, 'model_name': 'gpt-3.5-turbo', 'system_fingerprint': None, 'token_usage': {'completion_tokens': 23, 'completion_tokens_details': {'accepted_prediction_tokens': 0, 'audio_tokens': 0, 'reasoning_tokens': 0, 'rejected_prediction_tokens': 0}, 'prompt_tokens': 119, 'prompt_tokens_details': {'audio_tokens': 0, 'cached_tokens': 0}, 'total_tokens': 142}}, id='run-cf30be32-31b6-424f-83f4-ab59d1076aa4-0', tool_calls=[{'name': 'tavily_search_results_json', 'args': {'query': 'current weather in Los Angeles'}, 'id': 'call_S6Brcb9hLrgNdpRrH0431u6d'}])]}}}, created_at='2025-05-12T12:15:52.097321+00:00', parent_config={'configurable': {'thread_id': '2', 'thread_ts': '1f02f2ad-8c9b-682a-8000-b5fab727f531'}})\n",
      "– StateSnapshot(values={'messages': [HumanMessage(content=\"What's the weather in LA?\", id='813b5471-e1bb-416a-b673-2668b094c42e')]}, next=('llm',), config={'configurable': {'thread_id': '2', 'thread_ts': '1f02f2ad-8c9b-682a-8000-b5fab727f531'}}, metadata={'source': 'loop', 'step': 0, 'writes': None}, created_at='2025-05-12T12:15:52.071570+00:00', parent_config={'configurable': {'thread_id': '2', 'thread_ts': '1f02f2ad-8c98-6f56-bfff-6e50be26f287'}})\n",
      "– StateSnapshot(values={'messages': []}, next=('__start__',), config={'configurable': {'thread_id': '2', 'thread_ts': '1f02f2ad-8c98-6f56-bfff-6e50be26f287'}}, metadata={'source': 'input', 'step': -1, 'writes': {'messages': [HumanMessage(content=\"What's the weather in LA?\")]}}, created_at='2025-05-12T12:15:52.070528+00:00', parent_config=None)\n"
     ]
    }
   ],
   "source": [
    "# TIME TRAVEL !!!\n",
    "# List the entire history (most recent first)\n",
    "history = list(abot.graph.get_state_history(thread))\n",
    "for snap in history:\n",
    "    print(snap.values[\"count\"] if \"count\" in snap.values else \"–\", snap)"
   ]
  },
  {
   "cell_type": "code",
   "execution_count": 22,
   "id": "83d36102",
   "metadata": {
    "height": 98
   },
   "outputs": [
    {
     "name": "stdout",
     "output_type": "stream",
     "text": [
      "🔧 Calling tool: {'name': 'tavily_search_results_json', 'args': {'query': 'current weather in Los Angeles'}, 'id': 'call_S6Brcb9hLrgNdpRrH0431u6d'}\n",
      "Back to the LLM\n",
      "{'messages': [ToolMessage(content='[{\\'url\\': \\'https://weathershogun.com/weather/usa/ca/los-angeles/451/may/2025-05-12\\', \\'content\\': \\'Los Angeles, California Weather: Monday, May 12, 2025. Cloudy weather, overcast skies with clouds. Day 72°. Night 57°. Precipitation 0 %.\\'}, {\\'url\\': \\'https://www.weatherapi.com/\\', \\'content\\': \"{\\'location\\': {\\'name\\': \\'Los Angeles\\', \\'region\\': \\'California\\', \\'country\\': \\'United States of America\\', \\'lat\\': 34.0522, \\'lon\\': -118.2428, \\'tz_id\\': \\'America/Los_Angeles\\', \\'localtime_epoch\\': 1747052169, \\'localtime\\': \\'2025-05-12 05:16\\'}, \\'current\\': {\\'last_updated_epoch\\': 1747052100, \\'last_updated\\': \\'2025-05-12 05:15\\', \\'temp_c\\': 17.2, \\'temp_f\\': 63.0, \\'is_day\\': 0, \\'condition\\': {\\'text\\': \\'Overcast\\', \\'icon\\': \\'//cdn.weatherapi.com/weather/64x64/night/122.png\\', \\'code\\': 1009}, \\'wind_mph\\': 6.3, \\'wind_kph\\': 10.1, \\'wind_degree\\': 136, \\'wind_dir\\': \\'SE\\', \\'pressure_mb\\': 1013.0, \\'pressure_in\\': 29.9, \\'precip_mm\\': 0.0, \\'precip_in\\': 0.0, \\'humidity\\': 81, \\'cloud\\': 100, \\'feelslike_c\\': 17.2, \\'feelslike_f\\': 63.0, \\'windchill_c\\': 15.4, \\'windchill_f\\': 59.7, \\'heatindex_c\\': 15.3, \\'heatindex_f\\': 59.6, \\'dewpoint_c\\': 12.8, \\'dewpoint_f\\': 55.0, \\'vis_km\\': 16.0, \\'vis_miles\\': 9.0, \\'uv\\': 0.0, \\'gust_mph\\': 8.0, \\'gust_kph\\': 12.9}}\"}]', name='tavily_search_results_json', id='1a920187-ef3d-4c38-a5b5-813d18e8d71d', tool_call_id='call_S6Brcb9hLrgNdpRrH0431u6d')]}\n",
      "{'messages': [HumanMessage(content=\"What's the weather in LA?\", id='813b5471-e1bb-416a-b673-2668b094c42e'), AIMessage(content='', additional_kwargs={'tool_calls': [{'function': {'arguments': '{\"query\":\"current weather in Los Angeles\"}', 'name': 'tavily_search_results_json'}, 'id': 'call_S6Brcb9hLrgNdpRrH0431u6d', 'type': 'function'}]}, response_metadata={'finish_reason': 'tool_calls', 'logprobs': None, 'model_name': 'gpt-3.5-turbo', 'system_fingerprint': None, 'token_usage': {'completion_tokens': 23, 'completion_tokens_details': {'accepted_prediction_tokens': 0, 'audio_tokens': 0, 'reasoning_tokens': 0, 'rejected_prediction_tokens': 0}, 'prompt_tokens': 119, 'prompt_tokens_details': {'audio_tokens': 0, 'cached_tokens': 0}, 'total_tokens': 142}}, id='run-cf30be32-31b6-424f-83f4-ab59d1076aa4-0', tool_calls=[{'name': 'tavily_search_results_json', 'args': {'query': 'current weather in Los Angeles'}, 'id': 'call_S6Brcb9hLrgNdpRrH0431u6d'}]), ToolMessage(content='[{\\'url\\': \\'https://weathershogun.com/weather/usa/ca/los-angeles/451/may/2025-05-12\\', \\'content\\': \\'Los Angeles, California Weather: Monday, May 12, 2025. Cloudy weather, overcast skies with clouds. Day 72°. Night 57°. Precipitation 0 %.\\'}, {\\'url\\': \\'https://www.weatherapi.com/\\', \\'content\\': \"{\\'location\\': {\\'name\\': \\'Los Angeles\\', \\'region\\': \\'California\\', \\'country\\': \\'United States of America\\', \\'lat\\': 34.0522, \\'lon\\': -118.2428, \\'tz_id\\': \\'America/Los_Angeles\\', \\'localtime_epoch\\': 1747052169, \\'localtime\\': \\'2025-05-12 05:16\\'}, \\'current\\': {\\'last_updated_epoch\\': 1747052100, \\'last_updated\\': \\'2025-05-12 05:15\\', \\'temp_c\\': 17.2, \\'temp_f\\': 63.0, \\'is_day\\': 0, \\'condition\\': {\\'text\\': \\'Overcast\\', \\'icon\\': \\'//cdn.weatherapi.com/weather/64x64/night/122.png\\', \\'code\\': 1009}, \\'wind_mph\\': 6.3, \\'wind_kph\\': 10.1, \\'wind_degree\\': 136, \\'wind_dir\\': \\'SE\\', \\'pressure_mb\\': 1013.0, \\'pressure_in\\': 29.9, \\'precip_mm\\': 0.0, \\'precip_in\\': 0.0, \\'humidity\\': 81, \\'cloud\\': 100, \\'feelslike_c\\': 17.2, \\'feelslike_f\\': 63.0, \\'windchill_c\\': 15.4, \\'windchill_f\\': 59.7, \\'heatindex_c\\': 15.3, \\'heatindex_f\\': 59.6, \\'dewpoint_c\\': 12.8, \\'dewpoint_f\\': 55.0, \\'vis_km\\': 16.0, \\'vis_miles\\': 9.0, \\'uv\\': 0.0, \\'gust_mph\\': 8.0, \\'gust_kph\\': 12.9}}\"}]', name='tavily_search_results_json', id='1a920187-ef3d-4c38-a5b5-813d18e8d71d', tool_call_id='call_S6Brcb9hLrgNdpRrH0431u6d'), AIMessage(content='The current weather in Los Angeles is overcast with a temperature of 63.0°F. The wind is blowing at 10.1 kph from the southeast direction, and the humidity is at 81%. There is no precipitation at the moment.', response_metadata={'token_usage': {'completion_tokens': 53, 'prompt_tokens': 644, 'total_tokens': 697, 'prompt_tokens_details': {'cached_tokens': 0, 'audio_tokens': 0}, 'completion_tokens_details': {'reasoning_tokens': 0, 'audio_tokens': 0, 'accepted_prediction_tokens': 0, 'rejected_prediction_tokens': 0}}, 'model_name': 'gpt-3.5-turbo', 'system_fingerprint': None, 'finish_reason': 'stop', 'logprobs': None}, id='run-6e883bba-d595-4d2a-bb59-a61868401b8d-0')]}\n",
      "{'messages': [AIMessage(content='The current weather in Los Angeles is overcast with a temperature of 63.0°F. The wind is blowing at 10.1 kph from the southeast direction, and the humidity is at 81%. There is no precipitation at the moment.', response_metadata={'token_usage': {'completion_tokens': 53, 'prompt_tokens': 644, 'total_tokens': 697, 'prompt_tokens_details': {'cached_tokens': 0, 'audio_tokens': 0}, 'completion_tokens_details': {'reasoning_tokens': 0, 'audio_tokens': 0, 'accepted_prediction_tokens': 0, 'rejected_prediction_tokens': 0}}, 'model_name': 'gpt-3.5-turbo', 'system_fingerprint': None, 'finish_reason': 'stop', 'logprobs': None}, id='run-6e883bba-d595-4d2a-bb59-a61868401b8d-0')]}\n"
     ]
    }
   ],
   "source": [
    "# Jump back three steps and resume from there\n",
    "to_replay = history[-3]\n",
    "for event in abot.graph.stream(None, to_replay.config):\n",
    "    for v in event.values():\n",
    "        print(v)"
   ]
  },
  {
   "cell_type": "markdown",
   "id": "e6b48df7",
   "metadata": {},
   "source": [
    "The new branch is stored **alongside** the original path, so you can compare or even merge results later.\n",
    "\n",
    "#### Go back in time and redit"
   ]
  },
  {
   "cell_type": "code",
   "execution_count": 23,
   "id": "15cdbbe9",
   "metadata": {
    "height": 115
   },
   "outputs": [
    {
     "name": "stdout",
     "output_type": "stream",
     "text": [
      "{'messages': [HumanMessage(content=\"What's the weather in LA?\", id='813b5471-e1bb-416a-b673-2668b094c42e'), AIMessage(content='', additional_kwargs={'tool_calls': [{'function': {'arguments': '{\"query\":\"current weather in Los Angeles\"}', 'name': 'tavily_search_results_json'}, 'id': 'call_S6Brcb9hLrgNdpRrH0431u6d', 'type': 'function'}]}, response_metadata={'finish_reason': 'tool_calls', 'logprobs': None, 'model_name': 'gpt-3.5-turbo', 'system_fingerprint': None, 'token_usage': {'completion_tokens': 23, 'completion_tokens_details': {'accepted_prediction_tokens': 0, 'audio_tokens': 0, 'reasoning_tokens': 0, 'rejected_prediction_tokens': 0}, 'prompt_tokens': 119, 'prompt_tokens_details': {'audio_tokens': 0, 'cached_tokens': 0}, 'total_tokens': 142}}, id='run-cf30be32-31b6-424f-83f4-ab59d1076aa4-0', tool_calls=[{'name': 'tavily_search_results_json', 'args': {'query': 'current weather in LA, accuweather'}, 'id': 'call_S6Brcb9hLrgNdpRrH0431u6d'}])]}\n"
     ]
    }
   ],
   "source": [
    "_id = to_replay.values['messages'][-1].tool_calls[0]['id']\n",
    "to_replay.values['messages'][-1].tool_calls = [{'name': 'tavily_search_results_json',\n",
    "  'args': {'query': 'current weather in LA, accuweather'},\n",
    "  'id': _id}]\n",
    "\n",
    "branch_state = abot.graph.update_state(to_replay.config, to_replay.values)"
   ]
  },
  {
   "cell_type": "code",
   "execution_count": 24,
   "id": "4fd36632",
   "metadata": {
    "height": 81
   },
   "outputs": [
    {
     "name": "stdout",
     "output_type": "stream",
     "text": [
      "🔧 Calling tool: {'name': 'tavily_search_results_json', 'args': {'query': 'current weather in LA, accuweather'}, 'id': 'call_S6Brcb9hLrgNdpRrH0431u6d'}\n",
      "Back to the LLM\n",
      "{'messages': [ToolMessage(content=\"[{'url': 'https://www.accuweather.com/en/us/los-angeles-ca/90012/current-weather/37866_pc?lang=en-us&partner=web_stacksports_adc', 'content': 'Los Angeles, CA · Current Weather. 9:46 AM. 83°F. Mostly sunny. RealFeel® 89°. Very Warm. RealFeel Guide. Very Warm. 82° to 89°.'}, {'url': 'https://www.accuweather.com/en/us/los-angeles-ca/90012/current-weather/347625?lang=en-us&partner=web_scorebook_adc', 'content': 'Los Angeles, CA · Current Weather. 1:27 PM. 88°F. Sunny. RealFeel® 97°. Hot. RealFeel Guide. Hot. 90° to 100°. Caution advised.'}]\", name='tavily_search_results_json', id='15d28739-afdb-4b8e-96f4-a0569a444a21', tool_call_id='call_S6Brcb9hLrgNdpRrH0431u6d')]}\n",
      "{'messages': [HumanMessage(content=\"What's the weather in LA?\", id='813b5471-e1bb-416a-b673-2668b094c42e'), AIMessage(content='', additional_kwargs={'tool_calls': [{'function': {'arguments': '{\"query\":\"current weather in Los Angeles\"}', 'name': 'tavily_search_results_json'}, 'id': 'call_S6Brcb9hLrgNdpRrH0431u6d', 'type': 'function'}]}, response_metadata={'finish_reason': 'tool_calls', 'logprobs': None, 'model_name': 'gpt-3.5-turbo', 'system_fingerprint': None, 'token_usage': {'completion_tokens': 23, 'completion_tokens_details': {'accepted_prediction_tokens': 0, 'audio_tokens': 0, 'reasoning_tokens': 0, 'rejected_prediction_tokens': 0}, 'prompt_tokens': 119, 'prompt_tokens_details': {'audio_tokens': 0, 'cached_tokens': 0}, 'total_tokens': 142}}, id='run-cf30be32-31b6-424f-83f4-ab59d1076aa4-0', tool_calls=[{'name': 'tavily_search_results_json', 'args': {'query': 'current weather in LA, accuweather'}, 'id': 'call_S6Brcb9hLrgNdpRrH0431u6d'}]), ToolMessage(content=\"[{'url': 'https://www.accuweather.com/en/us/los-angeles-ca/90012/current-weather/37866_pc?lang=en-us&partner=web_stacksports_adc', 'content': 'Los Angeles, CA · Current Weather. 9:46 AM. 83°F. Mostly sunny. RealFeel® 89°. Very Warm. RealFeel Guide. Very Warm. 82° to 89°.'}, {'url': 'https://www.accuweather.com/en/us/los-angeles-ca/90012/current-weather/347625?lang=en-us&partner=web_scorebook_adc', 'content': 'Los Angeles, CA · Current Weather. 1:27 PM. 88°F. Sunny. RealFeel® 97°. Hot. RealFeel Guide. Hot. 90° to 100°. Caution advised.'}]\", name='tavily_search_results_json', id='15d28739-afdb-4b8e-96f4-a0569a444a21', tool_call_id='call_S6Brcb9hLrgNdpRrH0431u6d'), AIMessage(content='The current weather in Los Angeles is as follows:\\n- Temperature: 88°F\\n- Condition: Sunny\\n- RealFeel® Temperature: 97°F\\n- RealFeel Guide: Hot\\n\\nWould you like to know more details about the weather in LA or need any other information?', response_metadata={'token_usage': {'completion_tokens': 59, 'prompt_tokens': 342, 'total_tokens': 401, 'prompt_tokens_details': {'cached_tokens': 0, 'audio_tokens': 0}, 'completion_tokens_details': {'reasoning_tokens': 0, 'audio_tokens': 0, 'accepted_prediction_tokens': 0, 'rejected_prediction_tokens': 0}}, 'model_name': 'gpt-3.5-turbo', 'system_fingerprint': None, 'finish_reason': 'stop', 'logprobs': None}, id='run-caca0db2-95bd-4230-b720-118695ebce97-0')]}\n",
      "{'messages': [AIMessage(content='The current weather in Los Angeles is as follows:\\n- Temperature: 88°F\\n- Condition: Sunny\\n- RealFeel® Temperature: 97°F\\n- RealFeel Guide: Hot\\n\\nWould you like to know more details about the weather in LA or need any other information?', response_metadata={'token_usage': {'completion_tokens': 59, 'prompt_tokens': 342, 'total_tokens': 401, 'prompt_tokens_details': {'cached_tokens': 0, 'audio_tokens': 0}, 'completion_tokens_details': {'reasoning_tokens': 0, 'audio_tokens': 0, 'accepted_prediction_tokens': 0, 'rejected_prediction_tokens': 0}}, 'model_name': 'gpt-3.5-turbo', 'system_fingerprint': None, 'finish_reason': 'stop', 'logprobs': None}, id='run-caca0db2-95bd-4230-b720-118695ebce97-0')]}\n"
     ]
    }
   ],
   "source": [
    "for event in abot.graph.stream(None, branch_state):\n",
    "    for k, v in event.items():\n",
    "        if k != \"__end__\":\n",
    "            print(v)"
   ]
  },
  {
   "cell_type": "markdown",
   "id": "bde61c16",
   "metadata": {},
   "source": [
    "### Add message to a state at a given time"
   ]
  },
  {
   "cell_type": "code",
   "execution_count": 25,
   "id": "90dc38b9",
   "metadata": {
    "height": 166
   },
   "outputs": [],
   "source": [
    "_id = to_replay.values['messages'][-1].tool_calls[0]['id']\n",
    "\n",
    "# Update the state - added message for tool call action\n",
    "state_update = {\"messages\": [ToolMessage(\n",
    "    tool_call_id=_id,\n",
    "    name=\"tavily_search_results_json\",\n",
    "    content=\"54 degree celcius\",\n",
    ")]}\n"
   ]
  },
  {
   "cell_type": "code",
   "execution_count": 26,
   "id": "3746dcd0",
   "metadata": {
    "height": 81
   },
   "outputs": [],
   "source": [
    "branch_and_add = abot.graph.update_state(\n",
    "    to_replay.config, \n",
    "    state_update, \n",
    "    as_node=\"action\") # N.B. added as_node=\"action\" to avoid tool call and return message directly "
   ]
  },
  {
   "cell_type": "code",
   "execution_count": 27,
   "id": "cd942b21",
   "metadata": {
    "height": 64
   },
   "outputs": [
    {
     "name": "stdout",
     "output_type": "stream",
     "text": [
      "{'messages': [HumanMessage(content=\"What's the weather in LA?\", id='813b5471-e1bb-416a-b673-2668b094c42e'), AIMessage(content='', additional_kwargs={'tool_calls': [{'function': {'arguments': '{\"query\":\"current weather in Los Angeles\"}', 'name': 'tavily_search_results_json'}, 'id': 'call_S6Brcb9hLrgNdpRrH0431u6d', 'type': 'function'}]}, response_metadata={'finish_reason': 'tool_calls', 'logprobs': None, 'model_name': 'gpt-3.5-turbo', 'system_fingerprint': None, 'token_usage': {'completion_tokens': 23, 'completion_tokens_details': {'accepted_prediction_tokens': 0, 'audio_tokens': 0, 'reasoning_tokens': 0, 'rejected_prediction_tokens': 0}, 'prompt_tokens': 119, 'prompt_tokens_details': {'audio_tokens': 0, 'cached_tokens': 0}, 'total_tokens': 142}}, id='run-cf30be32-31b6-424f-83f4-ab59d1076aa4-0', tool_calls=[{'name': 'tavily_search_results_json', 'args': {'query': 'current weather in Los Angeles'}, 'id': 'call_S6Brcb9hLrgNdpRrH0431u6d'}]), ToolMessage(content='54 degree celcius', name='tavily_search_results_json', id='a44739c8-da0a-4c16-9606-7c279af7ef95', tool_call_id='call_S6Brcb9hLrgNdpRrH0431u6d'), AIMessage(content='The current weather in Los Angeles is 54 degrees Celsius. Would you like more information or details about the weather there?', response_metadata={'token_usage': {'completion_tokens': 26, 'prompt_tokens': 158, 'total_tokens': 184, 'prompt_tokens_details': {'cached_tokens': 0, 'audio_tokens': 0}, 'completion_tokens_details': {'reasoning_tokens': 0, 'audio_tokens': 0, 'accepted_prediction_tokens': 0, 'rejected_prediction_tokens': 0}}, 'model_name': 'gpt-3.5-turbo', 'system_fingerprint': None, 'finish_reason': 'stop', 'logprobs': None}, id='run-4ea44741-584f-4a8e-81e8-8eb10668c0c7-0')]}\n",
      "{'messages': [AIMessage(content='The current weather in Los Angeles is 54 degrees Celsius. Would you like more information or details about the weather there?', response_metadata={'token_usage': {'completion_tokens': 26, 'prompt_tokens': 158, 'total_tokens': 184, 'prompt_tokens_details': {'cached_tokens': 0, 'audio_tokens': 0}, 'completion_tokens_details': {'reasoning_tokens': 0, 'audio_tokens': 0, 'accepted_prediction_tokens': 0, 'rejected_prediction_tokens': 0}}, 'model_name': 'gpt-3.5-turbo', 'system_fingerprint': None, 'finish_reason': 'stop', 'logprobs': None}, id='run-4ea44741-584f-4a8e-81e8-8eb10668c0c7-0')]}\n"
     ]
    }
   ],
   "source": [
    "for event in abot.graph.stream(None, branch_and_add):\n",
    "    for k, v in event.items():\n",
    "        print(v)"
   ]
  },
  {
   "cell_type": "markdown",
   "id": "10c2f036",
   "metadata": {},
   "source": [
    "> **Summary:** With `interrupt_before`, a human-in-the-loop can inspect/alter state *before* external actions occur. It is also possible to travel in time, modify states and return user defined messages as actions. "
   ]
  }
 ],
 "metadata": {
  "kernelspec": {
   "display_name": "Python 3 (ipykernel)",
   "language": "python",
   "name": "python3"
  },
  "language_info": {
   "codemirror_mode": {
    "name": "ipython",
    "version": 3
   },
   "file_extension": ".py",
   "mimetype": "text/x-python",
   "name": "python",
   "nbconvert_exporter": "python",
   "pygments_lexer": "ipython3",
   "version": "3.11.9"
  }
 },
 "nbformat": 4,
 "nbformat_minor": 5
}
