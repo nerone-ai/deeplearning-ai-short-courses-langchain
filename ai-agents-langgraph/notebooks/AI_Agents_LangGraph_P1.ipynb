{
 "cells": [
  {
   "cell_type": "markdown",
   "id": "6f3dc3f4",
   "metadata": {},
   "source": [
    "# AI Agents in LangGraph – Introduction & Lesson 1\n",
    "\n",
    "Notes from the short course on building **AI agents** with the **LangGraph** extension of LangChain. Recent progress in **function‑calling LLMs** and purpose‑built tools (e.g. agent‑aware search) has made agentic applications *predictable* and *stable* to run in production.\n",
    "\n",
    "Successful teams follow a handful of design patterns:\n",
    "1. **Planning** – break the goal into executable steps.\n",
    "2. **Tool use** – route calls to well‑defined interfaces (APIs, search, calculators…).\n",
    "3. **Reflection** – critique and refine intermediate results.\n",
    "4. **Multi‑agent collaboration** – specialise roles (planner, researcher, writer…).\n",
    "5. **Memory & persistence** – record state for long‑running tasks and debugging.\n",
    "\n",
    "**LangGraph** lets users express cyclic graphs that capture these patterns declaratively, while still using LangChain’s rich ecosystem of tools and observability hooks.\n",
    "\n",
    "In *Lesson 1* a minimal **ReAct** agent is build from scratch. Future lessons will re‑implement it with LangGraph and extend it with the patterns above."
   ]
  },
  {
   "cell_type": "markdown",
   "id": "004311d3",
   "metadata": {},
   "source": [
    "## 0 · Environment setup\n",
    "Install the required packages once:\n",
    "```bash\n",
    "pip install openai python-dotenv\n",
    "```\n",
    "Store your OpenAI key in a local **.env** file (never commit secrets!):\n",
    "```bash\n",
    "echo \"OPENAI_API_KEY=sk-…\" >> .env\n",
    "echo \".env\" >> .gitignore\n",
    "```"
   ]
  },
  {
   "cell_type": "code",
   "execution_count": 1,
   "id": "d064f605",
   "metadata": {},
   "outputs": [],
   "source": [
    "from dotenv import load_dotenv\n",
    "import os, re, math\n",
    "\n",
    "load_dotenv()\n",
    "assert os.getenv('OPENAI_API_KEY'), \"⚠️  OPENAI_API_KEY not found. Did you create the .env file?\"\n",
    "\n",
    "# If you need the OpenAI client:\n",
    "from openai import OpenAI\n",
    "client = OpenAI()\n"
   ]
  },
  {
   "cell_type": "markdown",
   "id": "28a6af6b",
   "metadata": {},
   "source": [
    "# Lesson 1 — Building a ReAct Agent from Scratch"
   ]
  },
  {
   "cell_type": "markdown",
   "id": "5e18c5af",
   "metadata": {},
   "source": [
    "The **ReAct** pattern interleaves *reasoning* with *actions* on external tools. Formally, at turn $t$ we have state $s_t$. The policy chooses an action $a_t \\sim \\pi_\\theta(\\cdot \\mid s_t)$, observes $o_t$ from the environment, and updates the state $s_{t+1}=f(s_t, a_t, o_t)$.\n",
    "\n",
    "Everything in the cell below is handled by the LLM; our job is to write the runtime glue‑code."
   ]
  },
  {
   "cell_type": "code",
   "execution_count": 2,
   "id": "055be012",
   "metadata": {},
   "outputs": [],
   "source": [
    "class Agent:\n",
    "    \"\"\"A minimal ReAct agent using an OpenAI chat model.\"\"\"\n",
    "    def __init__(self, system: str = \"\"):\n",
    "        # Initialize the agent with a system message\n",
    "        self.messages = []\n",
    "        # Add a system message if provided\n",
    "        if system:\n",
    "            self.messages.append({\"role\": \"system\", \"content\": system})\n",
    "\n",
    "    def __call__(self, user_message: str) -> str:\n",
    "        # Add a user message\n",
    "        self.messages.append({\"role\": \"user\", \"content\": user_message})\n",
    "        # Get the response from the OpenAI API model\n",
    "        result= self.execute()\n",
    "        # Add the assistant message\n",
    "        self.messages.append({\"role\": \"assistant\", \"content\": result})\n",
    "        return result\n",
    "\n",
    "    def execute(self):\n",
    "        completion = client.chat.completions.create(\n",
    "            model=\"gpt-4o\",\n",
    "            temperature=0,\n",
    "            messages=self.messages)\n",
    "        return completion.choices[0].message.content\n",
    "        \n"
   ]
  },
  {
   "cell_type": "markdown",
   "id": "662e76e3",
   "metadata": {},
   "source": [
    "### Prompt with available tools"
   ]
  },
  {
   "cell_type": "code",
   "execution_count": 3,
   "id": "1ce00960",
   "metadata": {},
   "outputs": [],
   "source": [
    "# ReAct Agent Prompt\n",
    "prompt_react = '''You run in a loop of Thought, Action, PAUSE, Observation. At the end of the loop you output an Answer.\n",
    "\n",
    "Use Thought to describe your reasoning about the question.\n",
    "Use Action to run one of the tools, then return PAUSE.\n",
    "The runtime will feed you the Observation on the next turn.\n",
    "\n",
    "Available tools:\n",
    "* calculate: e.g. `calculate: 4 * 7 / 3` – run a Python calculation.\n",
    "* average_dog_weight: e.g. `average_dog_weight: Collie` – return the breed’s average weight.\n",
    "\n",
    "Example session:\n",
    "Question: How much does a Bulldog weigh?\n",
    "Thought: I should look up the dog's weight.\n",
    "Action: average_dog_weight: Bulldog\n",
    "PAUSE'''.strip()"
   ]
  },
  {
   "cell_type": "code",
   "execution_count": 4,
   "id": "c2a6b3ce",
   "metadata": {},
   "outputs": [],
   "source": [
    "# ReAct Agent Tools Definitions - are the tools mentioned in the prompt above\n",
    "\n",
    "def calculate(expr: str):\n",
    "    # Use a safe parser in production; eval is for demo only.\n",
    "    return eval(expr)\n",
    "\n",
    "def average_dog_weight(breed: str):\n",
    "    if breed in \"Scottish Terrier\":\n",
    "        return(\"Scottish Terrier average weight is 20 lbs\")\n",
    "    elif breed in \"Border Collie\":\n",
    "        return(\"Border Collie average weight is 37 lbs\")\n",
    "    elif breed in \"Toy Poodle\":\n",
    "        return(\"Toy Poodle average weight is 7 lbs\")\n",
    "    else:\n",
    "        return(\"An average dog weight is 50 lbs\")\n",
    "\n",
    "KNOWN_ACTIONS = {\n",
    "    \"calculate\": calculate,\n",
    "    \"average_dog_weight\": average_dog_weight,\n",
    "}\n"
   ]
  },
  {
   "cell_type": "code",
   "execution_count": 5,
   "id": "e37e3042",
   "metadata": {},
   "outputs": [
    {
     "name": "stdout",
     "output_type": "stream",
     "text": [
      "Thought: I should look up the average weight of a Toy Poodle.\n",
      "Action: average_dog_weight: Toy Poodle\n",
      "PAUSE\n",
      "Toy Poodle average weight is 7 lbs\n",
      "[{'role': 'system', 'content': \"You run in a loop of Thought, Action, PAUSE, Observation. At the end of the loop you output an Answer.\\n\\nUse Thought to describe your reasoning about the question.\\nUse Action to run one of the tools, then return PAUSE.\\nThe runtime will feed you the Observation on the next turn.\\n\\nAvailable tools:\\n* calculate: e.g. `calculate: 4 * 7 / 3` – run a Python calculation.\\n* average_dog_weight: e.g. `average_dog_weight: Collie` – return the breed’s average weight.\\n\\nExample session:\\nQuestion: How much does a Bulldog weigh?\\nThought: I should look up the dog's weight.\\nAction: average_dog_weight: Bulldog\\nPAUSE\"}, {'role': 'user', 'content': 'How much does a toy poddle weigh?'}, {'role': 'assistant', 'content': 'Thought: I should look up the average weight of a Toy Poodle.\\nAction: average_dog_weight: Toy Poodle\\nPAUSE'}, {'role': 'user', 'content': 'Obsservation: Toy Poodle average weight is 7 lbs'}, {'role': 'assistant', 'content': 'Answer: A Toy Poodle typically weighs around 7 pounds.'}]\n"
     ]
    }
   ],
   "source": [
    "# Example of calling manually each step\n",
    "\n",
    "abot = Agent(prompt_react)\n",
    "result= abot(\"How much does a toy poddle weigh?\")\n",
    "print(result)\n",
    "result = average_dog_weight(\"Toy Poodle\")\n",
    "print(result)\n",
    "next_prompt = \"Obsservation: {}\".format(result)\n",
    "abot(next_prompt)\n",
    "print(abot.messages)"
   ]
  },
  {
   "cell_type": "code",
   "execution_count": 6,
   "id": "bd3c2880",
   "metadata": {},
   "outputs": [],
   "source": [
    "# Example loop to call the agent\n",
    "\n",
    "# Python regular expression to select action\n",
    "ACTION_RE = re.compile(r'^Action: (\\w+): (.*)$')\n",
    "\n",
    "# Function to call the agent, max_turns is the maximum number of turns\n",
    "# before giving up on the agent\n",
    "def query(question: str, max_turns: int = 5):\n",
    "    # Create the agent\n",
    "    bot = Agent(prompt_react)\n",
    "    next_prompt = question\n",
    "    # Loop for max_turns times\n",
    "    for _ in range(max_turns):\n",
    "        # Call the agent and get the result\n",
    "        result = bot(next_prompt)\n",
    "        print(\"\\nLLM →\\n\" + result)\n",
    "        # Extract the action from the result\n",
    "        m = next((ACTION_RE.match(line) for line in result.split('\\n') if ACTION_RE.match(line)), None)\n",
    "        if not m:  # The agent answered\n",
    "            break\n",
    "        action, arg = m.groups()\n",
    "        # Check if the action is known      \n",
    "        if action not in KNOWN_ACTIONS:\n",
    "            raise ValueError(f\"Unknown action: {action}\")\n",
    "        # Call the action and get the observation\n",
    "        observation = KNOWN_ACTIONS[action](arg.strip())\n",
    "        print(f\"[runtime] {action}({arg}) → {observation}\")\n",
    "        # Create the next prompt\n",
    "        next_prompt = f\"Observation: {observation}\"\n"
   ]
  },
  {
   "cell_type": "code",
   "execution_count": 7,
   "id": "22acd84a",
   "metadata": {},
   "outputs": [
    {
     "name": "stdout",
     "output_type": "stream",
     "text": [
      "\n",
      "LLM →\n",
      "Thought: I need to find the average weight of both a Border Collie and a Scottish Terrier, then add them together to get the combined weight.\n",
      "Action: average_dog_weight: Border Collie\n",
      "PAUSE\n",
      "[runtime] average_dog_weight(Border Collie) → Border Collie average weight is 37 lbs\n",
      "\n",
      "LLM →\n",
      "Action: average_dog_weight: Scottish Terrier\n",
      "PAUSE\n",
      "[runtime] average_dog_weight(Scottish Terrier) → Scottish Terrier average weight is 20 lbs\n",
      "\n",
      "LLM →\n",
      "Thought: Now that I have the average weights of both dogs, I can calculate their combined weight by adding the two values together.\n",
      "Action: calculate: 37 + 20\n",
      "PAUSE\n",
      "[runtime] calculate(37 + 20) → 57\n",
      "\n",
      "LLM →\n",
      "Answer: The combined weight of a Border Collie and a Scottish Terrier is 57 lbs.\n"
     ]
    }
   ],
   "source": [
    "# ▶️ Try it!\n",
    "query(\"I have 2 dogs, a border collie and a scottish terrier. What is their combined weight?\")"
   ]
  },
  {
   "cell_type": "markdown",
   "id": "727caff9",
   "metadata": {},
   "source": [
    "### Notes on Agent\n",
    "* **Determinism** – `temperature=0` keeps tool calls parseable.\n",
    "* **Security** – replace `eval` with `asteval` or `simpleeval` in production.\n",
    "* **Observability** – `Agent.messages` lets you inspect the full trajectory.\n",
    "* **Cost control** – messages carry only the working context, keeping token bills down. If blind append every turn forever, the prompt grows quadratically and costs explode. "
   ]
  }
 ],
 "metadata": {
  "kernelspec": {
   "display_name": "DL_langchain",
   "language": "python",
   "name": "dl_langchain"
  },
  "language_info": {
   "codemirror_mode": {
    "name": "ipython",
    "version": 3
   },
   "file_extension": ".py",
   "mimetype": "text/x-python",
   "name": "python",
   "nbconvert_exporter": "python",
   "pygments_lexer": "ipython3",
   "version": "3.10.17"
  }
 },
 "nbformat": 4,
 "nbformat_minor": 5
}
