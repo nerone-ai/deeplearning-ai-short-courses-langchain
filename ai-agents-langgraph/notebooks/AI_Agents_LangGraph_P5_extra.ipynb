{
 "cells": [
  {
   "cell_type": "markdown",
   "id": "e0c7d7ba",
   "metadata": {},
   "source": [
    "# Lesson 5 – Extra Practice \n",
    "\n",
    "## State Memory & Branching  \n",
    "\n",
    "\n",
    "A minimal two‑node graph to observe how **state snapshots**, **branching**, and **time‑travel** behave.\n",
    "\n",
    "### State Fields\n",
    "* `lnode` – name of the last node that executed  \n",
    "* `scratch` – arbitrary scratchpad text  \n",
    "* `count` – integer that **adds** (`operator.add`) on each step\n"
   ]
  },
  {
   "cell_type": "code",
   "execution_count": 1,
   "id": "1b92b972",
   "metadata": {
    "height": 166
   },
   "outputs": [],
   "source": [
    "# --- Setup ------------------------------------------------------\n",
    "from dotenv import load_dotenv\n",
    "_ = load_dotenv()               # Load secrets from .env\n",
    "\n",
    "from langgraph.graph import StateGraph, END\n",
    "from typing import TypedDict, Annotated\n",
    "import operator\n",
    "from langgraph.checkpoint.sqlite import SqliteSaver\n"
   ]
  },
  {
   "cell_type": "markdown",
   "id": "c876dbed",
   "metadata": {},
   "source": [
    "## 1. Define the agent *state*"
   ]
  },
  {
   "cell_type": "code",
   "execution_count": 2,
   "id": "b176a369",
   "metadata": {
    "height": 98
   },
   "outputs": [],
   "source": [
    "class AgentState(TypedDict):\n",
    "    lnode: str                                  # node that executed\n",
    "    scratch: str                                # mutable scratch‑pad\n",
    "    count: Annotated[int, operator.add]         # adds on merge\n"
   ]
  },
  {
   "cell_type": "markdown",
   "id": "44b7bde9",
   "metadata": {},
   "source": [
    "## 2. Node callbacks\n",
    "\n",
    "Each node:\n",
    "\n",
    "1. Prints its own name and the incoming `count`.\n",
    "2. Returns a partial state update:\n",
    "   * `lnode` – its own label (for traceability)\n",
    "   * `count` – always `1` (which *adds* to the old value)\n"
   ]
  },
  {
   "cell_type": "code",
   "execution_count": 3,
   "id": "39432016",
   "metadata": {
    "height": 166
   },
   "outputs": [],
   "source": [
    "def node1(state: AgentState):\n",
    "    # Expect count to start at 0 and increment\n",
    "    print(f\" node1 - entering with count={state['count']}\")\n",
    "    return {\"lnode\": \"node_1\", \"count\": 1}\n",
    "\n",
    "def node2(state: AgentState):\n",
    "    print(f\" node2 - entering with count={state['count']}\")\n",
    "    return {\"lnode\": \"node_2\", \"count\": 1}\n"
   ]
  },
  {
   "cell_type": "markdown",
   "id": "89a045d1",
   "metadata": {},
   "source": [
    "## 3. Wiring the graph – simple loop until `count` ≥ 3"
   ]
  },
  {
   "cell_type": "code",
   "execution_count": 4,
   "id": "5f05fe9f",
   "metadata": {
    "height": 285
   },
   "outputs": [],
   "source": [
    "def should_continue(state: AgentState) -> bool:\n",
    "    \"\"\"Continue looping while count < 3\"\"\"\n",
    "    return state[\"count\"] < 3\n",
    "\n",
    "builder = StateGraph(AgentState)\n",
    "builder.add_node(\"Node1\", node1)\n",
    "builder.add_node(\"Node2\", node2)\n",
    "\n",
    "builder.add_edge(\"Node1\", \"Node2\")                       # fixed edge\n",
    "builder.add_conditional_edges(\"Node2\", should_continue, {True: \"Node1\", False: END})\n",
    "builder.set_entry_point(\"Node1\")\n",
    "\n",
    "# Checkpointer stores every transition\n",
    "memory = SqliteSaver.from_conn_string(\":memory:\")\n",
    "graph = builder.compile(checkpointer=memory)\n"
   ]
  },
  {
   "cell_type": "markdown",
   "id": "5602567f",
   "metadata": {},
   "source": [
    "## 4. First run (thread 1)\n",
    "\n",
    "Expected console output:  \n",
    "`node1 → node2 → node1 → node2`, after which the graph stops.\n"
   ]
  },
  {
   "cell_type": "code",
   "execution_count": 5,
   "id": "b797919e",
   "metadata": {
    "height": 64
   },
   "outputs": [
    {
     "name": "stdout",
     "output_type": "stream",
     "text": [
      " node1 - entering with count=0\n",
      " node2 - entering with count=1\n",
      " node1 - entering with count=2\n",
      " node2 - entering with count=3\n"
     ]
    },
    {
     "data": {
      "text/plain": [
       "{'lnode': 'node_2', 'scratch': 'hi', 'count': 4}"
      ]
     },
     "execution_count": 5,
     "metadata": {},
     "output_type": "execute_result"
    }
   ],
   "source": [
    "thread1 = {\"configurable\": {\"thread_id\": \"1\"}}\n",
    "graph.invoke({\"count\": 0, \"scratch\": \"hi\"}, thread1)\n"
   ]
  },
  {
   "cell_type": "markdown",
   "id": "6e0a5d1a",
   "metadata": {},
   "source": [
    "### Observation\n",
    "\n",
    "Returned state should contain:\n",
    "\n",
    "* `lnode: 'node_2'` – last executed node  \n",
    "* `count: 4` – four increments (0→1→2→3→4)\n"
   ]
  },
  {
   "cell_type": "markdown",
   "id": "ae33dd41",
   "metadata": {},
   "source": [
    "## 5. Inspecting the latest snapshot"
   ]
  },
  {
   "cell_type": "code",
   "execution_count": 6,
   "id": "17875499",
   "metadata": {
    "height": 64
   },
   "outputs": [
    {
     "data": {
      "text/plain": [
       "StateSnapshot(values={'lnode': 'node_2', 'scratch': 'hi', 'count': 4}, next=(), config={'configurable': {'thread_id': '1', 'thread_ts': '1f02f2fd-94f1-66e6-8004-413af64fdace'}}, metadata={'source': 'loop', 'step': 4, 'writes': {'Node2': {'count': 1, 'lnode': 'node_2'}}}, created_at='2025-05-12T12:51:40.429263+00:00', parent_config={'configurable': {'thread_id': '1', 'thread_ts': '1f02f2fd-94ed-6bc5-8003-385f0873ab38'}})"
      ]
     },
     "execution_count": 6,
     "metadata": {},
     "output_type": "execute_result"
    }
   ],
   "source": [
    "latest = graph.get_state(thread1)\n",
    "latest\n"
   ]
  },
  {
   "cell_type": "markdown",
   "id": "53e2c310",
   "metadata": {},
   "source": [
    "`latest.next` should be `None` (no further nodes)."
   ]
  },
  {
   "cell_type": "code",
   "execution_count": 7,
   "id": "6ecd3553",
   "metadata": {
    "height": 30
   },
   "outputs": [
    {
     "name": "stdout",
     "output_type": "stream",
     "text": [
      "Next node: ()\n"
     ]
    }
   ],
   "source": [
    "print(\"Next node:\", latest.next)"
   ]
  },
  {
   "cell_type": "markdown",
   "id": "6add46fb",
   "metadata": {},
   "source": [
    "### 5.1 Full history (newest first)"
   ]
  },
  {
   "cell_type": "code",
   "execution_count": 8,
   "id": "7c139e1e",
   "metadata": {
    "height": 132
   },
   "outputs": [
    {
     "name": "stdout",
     "output_type": "stream",
     "text": [
      "StateSnapshot(values={'lnode': 'node_2', 'scratch': 'hi', 'count': 4}, next=(), config={'configurable': {'thread_id': '1', 'thread_ts': '1f02f2fd-94f1-66e6-8004-413af64fdace'}}, metadata={'source': 'loop', 'step': 4, 'writes': {'Node2': {'count': 1, 'lnode': 'node_2'}}}, created_at='2025-05-12T12:51:40.429263+00:00', parent_config={'configurable': {'thread_id': '1', 'thread_ts': '1f02f2fd-94ed-6bc5-8003-385f0873ab38'}}) \n",
      "\n",
      "step=4   count=4  node=node_2\n",
      "\n",
      "StateSnapshot(values={'lnode': 'node_1', 'scratch': 'hi', 'count': 3}, next=('Node2',), config={'configurable': {'thread_id': '1', 'thread_ts': '1f02f2fd-94ed-6bc5-8003-385f0873ab38'}}, metadata={'source': 'loop', 'step': 3, 'writes': {'Node1': {'count': 1, 'lnode': 'node_1'}}}, created_at='2025-05-12T12:51:40.427749+00:00', parent_config={'configurable': {'thread_id': '1', 'thread_ts': '1f02f2fd-94ea-6506-8002-4e56aaaaf0e8'}}) \n",
      "\n",
      "step=3   count=3  node=node_1\n",
      "\n",
      "StateSnapshot(values={'lnode': 'node_2', 'scratch': 'hi', 'count': 2}, next=('Node1',), config={'configurable': {'thread_id': '1', 'thread_ts': '1f02f2fd-94ea-6506-8002-4e56aaaaf0e8'}}, metadata={'source': 'loop', 'step': 2, 'writes': {'Node2': {'count': 1, 'lnode': 'node_2'}}}, created_at='2025-05-12T12:51:40.426347+00:00', parent_config={'configurable': {'thread_id': '1', 'thread_ts': '1f02f2fd-94e3-6d17-8001-a16aa968101b'}}) \n",
      "\n",
      "step=2   count=2  node=node_2\n",
      "\n",
      "StateSnapshot(values={'lnode': 'node_1', 'scratch': 'hi', 'count': 1}, next=('Node2',), config={'configurable': {'thread_id': '1', 'thread_ts': '1f02f2fd-94e3-6d17-8001-a16aa968101b'}}, metadata={'source': 'loop', 'step': 1, 'writes': {'Node1': {'count': 1, 'lnode': 'node_1'}}}, created_at='2025-05-12T12:51:40.423684+00:00', parent_config={'configurable': {'thread_id': '1', 'thread_ts': '1f02f2fd-94d9-6715-8000-55d988cd1680'}}) \n",
      "\n",
      "step=1   count=1  node=node_1\n",
      "\n",
      "StateSnapshot(values={'scratch': 'hi', 'count': 0}, next=('Node1',), config={'configurable': {'thread_id': '1', 'thread_ts': '1f02f2fd-94d9-6715-8000-55d988cd1680'}}, metadata={'source': 'loop', 'step': 0, 'writes': None}, created_at='2025-05-12T12:51:40.419440+00:00', parent_config={'configurable': {'thread_id': '1', 'thread_ts': '1f02f2fd-94d6-6bf6-bfff-e31a8953d38d'}}) \n",
      "\n",
      "step=0   count=0  node=—\n",
      "\n",
      "StateSnapshot(values={'count': 0}, next=('__start__',), config={'configurable': {'thread_id': '1', 'thread_ts': '1f02f2fd-94d6-6bf6-bfff-e31a8953d38d'}}, metadata={'source': 'input', 'step': -1, 'writes': {'count': 0, 'scratch': 'hi'}}, created_at='2025-05-12T12:51:40.418340+00:00', parent_config=None) \n",
      "\n",
      "step=-1  count=0  node=—\n",
      "\n"
     ]
    }
   ],
   "source": [
    "history1 = list(graph.get_state_history(thread1))\n",
    "\n",
    "for snap in history1:\n",
    "    print(snap, \"\\n\")  # Full StateSnapshot\n",
    "    lnode = snap.values.get('lnode', '—')  # Gracefully handle missing 'lnode'\n",
    "    print(f\"step={snap.metadata['step']:<2}  count={snap.values['count']}  node={lnode}\\n\")\n"
   ]
  },
  {
   "cell_type": "markdown",
   "id": "f4314932",
   "metadata": {},
   "source": [
    "## 6. Time‑travel: resume from snapshot with `count==1`\n",
    "\n",
    "Pick the snapshot right after the first `Node1` execution and invoke the graph from there.\n"
   ]
  },
  {
   "cell_type": "code",
   "execution_count": 9,
   "id": "86609579",
   "metadata": {
    "height": 64
   },
   "outputs": [
    {
     "name": "stdout",
     "output_type": "stream",
     "text": [
      " node2 - entering with count=1\n",
      " node1 - entering with count=2\n",
      " node2 - entering with count=3\n"
     ]
    },
    {
     "data": {
      "text/plain": [
       "{'lnode': 'node_2', 'scratch': 'hi', 'count': 4}"
      ]
     },
     "execution_count": 9,
     "metadata": {},
     "output_type": "execute_result"
    }
   ],
   "source": [
    "travel_cfg = next(s for s in history1 if s.values['count'] == 1)\n",
    "graph.invoke(None, travel_cfg.config)\n"
   ]
  },
  {
   "cell_type": "markdown",
   "id": "97fde961",
   "metadata": {},
   "source": [
    "Re‑print history – notice new snapshots (higher `step` numbers) representing the *branch*."
   ]
  },
  {
   "cell_type": "code",
   "execution_count": 10,
   "id": "0c690830",
   "metadata": {
    "height": 115
   },
   "outputs": [
    {
     "name": "stdout",
     "output_type": "stream",
     "text": [
      "step=4   count=4  lnode=node_2    thread_ts=1f02f2fd-9536-6a84-8004-4980f81a6980  parent_ts=1f02f2fd-9533-682c-8003-d45256b9babc\n",
      "step=3   count=3  lnode=node_1    thread_ts=1f02f2fd-9533-682c-8003-d45256b9babc  parent_ts=1f02f2fd-9530-6667-8002-15ba17184b7b\n",
      "step=2   count=2  lnode=node_2    thread_ts=1f02f2fd-9530-6667-8002-15ba17184b7b  parent_ts=1f02f2fd-94e3-6d17-8001-a16aa968101b\n",
      "step=4   count=4  lnode=node_2    thread_ts=1f02f2fd-94f1-66e6-8004-413af64fdace  parent_ts=1f02f2fd-94ed-6bc5-8003-385f0873ab38\n",
      "step=3   count=3  lnode=node_1    thread_ts=1f02f2fd-94ed-6bc5-8003-385f0873ab38  parent_ts=1f02f2fd-94ea-6506-8002-4e56aaaaf0e8\n",
      "step=2   count=2  lnode=node_2    thread_ts=1f02f2fd-94ea-6506-8002-4e56aaaaf0e8  parent_ts=1f02f2fd-94e3-6d17-8001-a16aa968101b\n",
      "step=1   count=1  lnode=node_1    thread_ts=1f02f2fd-94e3-6d17-8001-a16aa968101b  parent_ts=1f02f2fd-94d9-6715-8000-55d988cd1680\n",
      "step=0   count=0  lnode=—         thread_ts=1f02f2fd-94d9-6715-8000-55d988cd1680  parent_ts=1f02f2fd-94d6-6bf6-bfff-e31a8953d38d\n",
      "step=-1  count=0  lnode=—         thread_ts=1f02f2fd-94d6-6bf6-bfff-e31a8953d38d  parent_ts=None\n"
     ]
    }
   ],
   "source": [
    "for snap in graph.get_state_history(thread1):\n",
    "    parent = snap.parent_config.get('configurable', {}).get('thread_ts') if snap.parent_config else \"None\"\n",
    "    config = snap.config.get('configurable', {}).get('thread_ts')\n",
    "    lnode = snap.values.get('lnode', '—')\n",
    "    print(f\"step={snap.metadata['step']:<2}  count={snap.values['count']}  lnode={lnode:<8}  thread_ts={config}  parent_ts={parent}\")\n"
   ]
  },
  {
   "cell_type": "markdown",
   "id": "9d38d393",
   "metadata": {},
   "source": [
    "## 7. Manual state edits (thread 2)"
   ]
  },
  {
   "cell_type": "code",
   "execution_count": 11,
   "id": "5c7e8fc8",
   "metadata": {
    "height": 200
   },
   "outputs": [
    {
     "name": "stdout",
     "output_type": "stream",
     "text": [
      " node1 - entering with count=0\n",
      " node2 - entering with count=1\n",
      " node1 - entering with count=2\n",
      " node2 - entering with count=3\n"
     ]
    }
   ],
   "source": [
    "thread2 = {\"configurable\": {\"thread_id\": \"2\"}}\n",
    "graph.invoke({\"count\": 0, \"scratch\": \"hi\"}, thread2)\n",
    "\n",
    "# Choose a mid‑run snapshot\n",
    "hist2 = list(graph.get_state_history(thread2))\n",
    "save_state = hist2[-3]                        # snapshot after first Node1\n",
    "\n",
    "# Patch values\n",
    "save_state.values[\"count\"] = -3               # will be added\n",
    "save_state.values[\"scratch\"] = \"hello\"\n"
   ]
  },
  {
   "cell_type": "markdown",
   "id": "3a50e6eb",
   "metadata": {},
   "source": [
    "### 7.1 Update **without** `as_node` – graph cannot continue"
   ]
  },
  {
   "cell_type": "code",
   "execution_count": 12,
   "id": "30f95024",
   "metadata": {
    "height": 64
   },
   "outputs": [
    {
     "data": {
      "text/plain": [
       "StateSnapshot(values={'lnode': 'node_1', 'scratch': 'hello', 'count': 1}, next=('Node1',), config={'configurable': {'thread_id': '2', 'thread_ts': '1f02f2fd-9568-6f9c-8005-222c00decd26'}}, metadata={'source': 'update', 'step': 5, 'writes': {'Node2': {'count': -3, 'lnode': 'node_1', 'scratch': 'hello'}}}, created_at='2025-05-12T12:51:40.478241+00:00', parent_config={'configurable': {'thread_id': '2', 'thread_ts': '1f02f2fd-955c-6c3e-8004-704dbdf0959b'}})"
      ]
     },
     "execution_count": 12,
     "metadata": {},
     "output_type": "execute_result"
    }
   ],
   "source": [
    "graph.update_state(thread2, save_state.values)\n",
    "graph.get_state(thread2)\n"
   ]
  },
  {
   "cell_type": "markdown",
   "id": "3a3fd5c8",
   "metadata": {},
   "source": [
    "### 7.2 Update **with** `as_node='Node1'` – graph flows to Node2"
   ]
  },
  {
   "cell_type": "code",
   "execution_count": 13,
   "id": "59fc799d",
   "metadata": {
    "height": 47
   },
   "outputs": [
    {
     "name": "stdout",
     "output_type": "stream",
     "text": [
      "Next node: ('Node2',)\n"
     ]
    }
   ],
   "source": [
    "graph.update_state(thread2, save_state.values, as_node=\"Node1\")\n",
    "print(\"Next node:\", graph.get_state(thread2).next)"
   ]
  },
  {
   "cell_type": "code",
   "execution_count": 14,
   "id": "55bc719b",
   "metadata": {
    "height": 47
   },
   "outputs": [
    {
     "name": "stdout",
     "output_type": "stream",
     "text": [
      " node2 - entering with count=-2\n",
      " node1 - entering with count=-1\n",
      " node2 - entering with count=0\n",
      " node1 - entering with count=1\n",
      " node2 - entering with count=2\n"
     ]
    },
    {
     "data": {
      "text/plain": [
       "{'lnode': 'node_2', 'scratch': 'hello', 'count': 3}"
      ]
     },
     "execution_count": 14,
     "metadata": {},
     "output_type": "execute_result"
    }
   ],
   "source": [
    "# Resume execution\n",
    "graph.invoke(None, thread2)"
   ]
  },
  {
   "cell_type": "markdown",
   "id": "4e258098",
   "metadata": {},
   "source": [
    "## 8. Key take‑aways\n",
    "\n",
    "* Snapshots are immutable – edits create **new** snapshots.\n",
    "* Use `.config` from any snapshot to *rewind* or *fork* execution.\n",
    "* Provide `as_node` when patching state so LangGraph can compute the correct next hop.\n",
    "* Fields annotated with `operator.add` accumulate – be mindful when you hand‑edit them!\n"
   ]
  }
 ],
 "metadata": {
  "kernelspec": {
   "display_name": "Python 3 (ipykernel)",
   "language": "python",
   "name": "python3"
  },
  "language_info": {
   "codemirror_mode": {
    "name": "ipython",
    "version": 3
   },
   "file_extension": ".py",
   "mimetype": "text/x-python",
   "name": "python",
   "nbconvert_exporter": "python",
   "pygments_lexer": "ipython3",
   "version": "3.11.9"
  }
 },
 "nbformat": 4,
 "nbformat_minor": 5
}
